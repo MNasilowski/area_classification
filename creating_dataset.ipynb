{
 "cells": [
  {
   "cell_type": "code",
   "execution_count": 1,
   "metadata": {},
   "outputs": [],
   "source": [
    "import cv2\n",
    "import os\n",
    "import numpy as np\n",
    "import pandas as pd\n",
    "from sklearn.preprocessing import MinMaxScaler\n",
    "import matplotlib.pyplot as plt"
   ]
  },
  {
   "cell_type": "code",
   "execution_count": 2,
   "metadata": {},
   "outputs": [],
   "source": [
    "def plot_MinMaxAvg(data,figsize=(12,4)):\n",
    "    \"\"\"Plot mean values of data columns with min and max values\"\"\"\n",
    "    average = data.mean(axis=0)\n",
    "    st_deviation = data.std(axis=0)\n",
    "    min_values = data.min(axis=0)\n",
    "    max_values = data.max(axis=0)\n",
    "    fig, ax = plt.subplots(figsize=figsize)\n",
    "    ax.errorbar(np.arange(average.shape[0]), average, st_deviation, fmt='ok', lw=3)\n",
    "    ax.errorbar(np.arange(average.shape[0]), average, [min_values,max_values], fmt='.k', ecolor='grey', lw=1)\n",
    "    average.shape"
   ]
  },
  {
   "cell_type": "markdown",
   "metadata": {},
   "source": [
    "# Creating dataset\n",
    "\n",
    "* Zrodlo danych: Sentinel\n",
    "* Konwerscja JP2 do PNG: Ręcznie / Skrypt na ubuntu\n",
    "* Klasyfikacja terenu na podstawie Open Street Map: Natural water, Landuse forest, Landuse farmland"
   ]
  },
  {
   "cell_type": "markdown",
   "metadata": {},
   "source": [
    "Read files from data folder"
   ]
  },
  {
   "cell_type": "code",
   "execution_count": 3,
   "metadata": {},
   "outputs": [],
   "source": [
    "files = os.listdir('Data')\n",
    "columns_names = []\n",
    "x_size, y_size = cv2.imread(os.path.join('Data', files[0])).shape[:2]"
   ]
  },
  {
   "cell_type": "code",
   "execution_count": 4,
   "metadata": {},
   "outputs": [],
   "source": [
    "X = np.zeros((x_size,y_size,len(files)))\n",
    "for i, file in enumerate(files):\n",
    "    columns_names.append(file[-7:-4])\n",
    "    X[...,i] = cv2.imread(os.path.join('Data', file), cv2.IMREAD_UNCHANGED)\n",
    "data = X.reshape((x_size*y_size, len(files)))"
   ]
  },
  {
   "cell_type": "code",
   "execution_count": 5,
   "metadata": {},
   "outputs": [
    {
     "data": {
      "image/png": "[encoded data removed]",
      "text/plain": [
       "<Figure size 864x288 with 1 Axes>"
      ]
     },
     "metadata": {
      "needs_background": "light"
     },
     "output_type": "display_data"
    }
   ],
   "source": [
    "plot_MinMaxAvg(data)"
   ]
  },
  {
   "cell_type": "markdown",
   "metadata": {},
   "source": [
    "Dealing with outstanding data $ x = min(x,\\overline{x}+3\\sigma_{x}) $"
   ]
  },
  {
   "cell_type": "code",
   "execution_count": 6,
   "metadata": {},
   "outputs": [],
   "source": [
    "for i in range(data.shape[1]):\n",
    "    max_value = np.mean(data[:, i]) + 3*np.std(data[:, i])\n",
    "    data[:, i] = (np.where(data[:, i] < max_value, data[:, i], max_value))"
   ]
  },
  {
   "cell_type": "code",
   "execution_count": 7,
   "metadata": {},
   "outputs": [
    {
     "data": {
      "image/png": "[encoded data removed]",
      "text/plain": [
       "<Figure size 864x288 with 1 Axes>"
      ]
     },
     "metadata": {
      "needs_background": "light"
     },
     "output_type": "display_data"
    }
   ],
   "source": [
    "plot_MinMaxAvg(data)"
   ]
  },
  {
   "cell_type": "markdown",
   "metadata": {},
   "source": [
    "Normalisation\n",
    "* Normalisation should be done on training and test separetly but ..."
   ]
  },
  {
   "cell_type": "code",
   "execution_count": 8,
   "metadata": {},
   "outputs": [],
   "source": [
    "from sklearn.preprocessing import MinMaxScaler\n",
    "sc = MinMaxScaler(feature_range=(0, 1))\n",
    "data = sc.fit_transform(data)"
   ]
  },
  {
   "cell_type": "code",
   "execution_count": 9,
   "metadata": {},
   "outputs": [
    {
     "data": {
      "image/png": "[encoded data removed]",
      "text/plain": [
       "<Figure size 864x288 with 1 Axes>"
      ]
     },
     "metadata": {
      "needs_background": "light"
     },
     "output_type": "display_data"
    }
   ],
   "source": [
    "plot_MinMaxAvg(data)"
   ]
  },
  {
   "cell_type": "markdown",
   "metadata": {},
   "source": [
    "Read classes from Classification.png"
   ]
  },
  {
   "cell_type": "code",
   "execution_count": 10,
   "metadata": {},
   "outputs": [],
   "source": [
    "classes = cv2.imread('Classification.png')[:x_size, :y_size]\n",
    "classes = classes.reshape((x_size*y_size, 3))\n",
    "classes = (classes/255).astype(int)\n",
    "other = (1 - classes.any(axis=1).astype(int)).reshape(-1,1)\n",
    "columns_names += ['water', 'forest', 'fields', 'other']"
   ]
  },
  {
   "cell_type": "markdown",
   "metadata": {},
   "source": [
    "Saving data to csv file"
   ]
  },
  {
   "cell_type": "code",
   "execution_count": 11,
   "metadata": {},
   "outputs": [],
   "source": [
    "data = np.concatenate((data, classes, other), axis=1)\n",
    "data = pd.DataFrame(data, columns=columns_names)\n",
    "data.to_csv('data.csv')"
   ]
  }
 ],
 "metadata": {
  "kernelspec": {
   "display_name": "Python 3",
   "language": "python",
   "name": "python3"
  },
  "language_info": {
   "codemirror_mode": {
    "name": "ipython",
    "version": 3
   },
   "file_extension": ".py",
   "mimetype": "text/x-python",
   "name": "python",
   "nbconvert_exporter": "python",
   "pygments_lexer": "ipython3",
   "version": "3.8.5"
  }
 },
 "nbformat": 4,
 "nbformat_minor": 4
}
