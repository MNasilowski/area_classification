{
 "cells": [
  {
   "cell_type": "code",
   "execution_count": null,
   "metadata": {},
   "outputs": [],
   "source": [
    "import cv2\n",
    "import os\n",
    "import numpy as np\n",
    "import pandas as pd\n",
    "from sklearn.preprocessing import MinMaxScaler\n",
    "import matplotlib.pyplot as plt\n",
    "import preprocesing as pre\n",
    "from configparser import ConfigParser\n",
    "from helpers import plot_MinMaxAvg"
   ]
  },
  {
   "cell_type": "code",
   "execution_count": null,
   "metadata": {},
   "outputs": [],
   "source": [
    "from helpers import show_classes_distribution"
   ]
  },
  {
   "cell_type": "markdown",
   "metadata": {},
   "source": [
    "# Creating dataset\n",
    "\n",
    "* Zrodlo danych: Sentinel\n",
    "* Konwerscja JP2 do PNG: ręcznie / skrypt w bash\n",
    "* Klasyfikacja terenu na podstawie Open Street Map: natural water, landuse forest, landuse farmland\n",
    "* Ręczna poprawa klasyfikacji"
   ]
  },
  {
   "cell_type": "markdown",
   "metadata": {},
   "source": [
    "Reading project variable from config.ini file"
   ]
  },
  {
   "cell_type": "code",
   "execution_count": null,
   "metadata": {},
   "outputs": [],
   "source": [
    "config = ConfigParser()\n",
    "config.read('config.ini')\n",
    "input_dir = config['main']['input_dir']\n",
    "class_file = config['main']['classification_data']\n",
    "dx = int(config['main']['x_size'])\n",
    "dy = int(config['main']['y_size'])\n",
    "x = int(config['main']['x_start'])\n",
    "y = int(config['main']['y_start'])\n",
    "csv_data_file = config['main']['csv_data_file']"
   ]
  },
  {
   "cell_type": "markdown",
   "metadata": {},
   "source": [
    "Read files from data folder"
   ]
  },
  {
   "cell_type": "code",
   "execution_count": null,
   "metadata": {},
   "outputs": [],
   "source": [
    "data, columns_names = pre.images_to_numpy(input_dir, dx, dy, x, y)"
   ]
  },
  {
   "cell_type": "code",
   "execution_count": null,
   "metadata": {},
   "outputs": [],
   "source": [
    "plot_MinMaxAvg(data)"
   ]
  },
  {
   "cell_type": "markdown",
   "metadata": {},
   "source": [
    "the data has a large variance so we have to deal with outstanding data $ x = min(x,\\overline{x}+3\\sigma_{x}) $ and implement minimax scaller from sklearn. \n",
    "* Normalisation should be done on training and test separetly but the project is just for learning purpose"
   ]
  },
  {
   "cell_type": "code",
   "execution_count": null,
   "metadata": {},
   "outputs": [],
   "source": [
    " data = pre.remove_outstandings(data)"
   ]
  },
  {
   "cell_type": "code",
   "execution_count": null,
   "metadata": {},
   "outputs": [],
   "source": [
    "plot_MinMaxAvg(data)"
   ]
  },
  {
   "cell_type": "markdown",
   "metadata": {},
   "source": [
    "Read classes from directory"
   ]
  },
  {
   "cell_type": "code",
   "execution_count": null,
   "metadata": {},
   "outputs": [],
   "source": [
    "classes, class_names = pre.get_classes(class_file, dx, dy, x, y)\n",
    "other = (1 - classes.any(axis=1).astype(int)).reshape(-1,1)\n",
    "class_names += ['other']\n",
    "pre.add_classes_to_config(config, class_names)\n",
    "columns_names += class_names "
   ]
  },
  {
   "cell_type": "code",
   "execution_count": null,
   "metadata": {},
   "outputs": [],
   "source": [
    "show_classes_distribution(np.concatenate((classes, other), axis=1),class_names)"
   ]
  },
  {
   "cell_type": "markdown",
   "metadata": {},
   "source": [
    "Saving data to csv file"
   ]
  },
  {
   "cell_type": "code",
   "execution_count": null,
   "metadata": {},
   "outputs": [],
   "source": [
    "data = np.concatenate((data, classes, other), axis=1)\n",
    "data = pd.DataFrame(data, columns=columns_names)\n",
    "data.to_csv(csv_data_file)"
   ]
  },
  {
   "cell_type": "code",
   "execution_count": null,
   "metadata": {},
   "outputs": [],
   "source": []
  }
 ],
 "metadata": {
  "kernelspec": {
   "display_name": "Python 3",
   "language": "python",
   "name": "python3"
  },
  "language_info": {
   "codemirror_mode": {
    "name": "ipython",
    "version": 3
   },
   "file_extension": ".py",
   "mimetype": "text/x-python",
   "name": "python",
   "nbconvert_exporter": "python",
   "pygments_lexer": "ipython3",
   "version": "3.8.2"
  }
 },
 "nbformat": 4,
 "nbformat_minor": 4
}
