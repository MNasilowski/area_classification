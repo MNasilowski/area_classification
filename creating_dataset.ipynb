{
 "cells": [
  {
   "cell_type": "code",
   "execution_count": 1,
   "metadata": {},
   "outputs": [],
   "source": [
    "import cv2\n",
    "import os\n",
    "import numpy as np\n",
    "import pandas as pd\n",
    "from sklearn.preprocessing import MinMaxScaler\n",
    "import matplotlib.pyplot as plt\n",
    "import preprocesing as pre\n",
    "from configparser import ConfigParser\n",
    "from helpers import plot_MinMaxAvg"
   ]
  },
  {
   "cell_type": "code",
   "execution_count": 2,
   "metadata": {},
   "outputs": [],
   "source": [
    "from helpers import show_classes_distribution"
   ]
  },
  {
   "cell_type": "markdown",
   "metadata": {},
   "source": [
    "# Creating dataset\n",
    "\n",
    "* Zrodlo danych: Sentinel\n",
    "* Konwerscja JP2 do PNG: ręcznie / skrypt w bash\n",
    "* Klasyfikacja terenu na podstawie Open Street Map: natural water, landuse forest, landuse farmland\n",
    "* Ręczna poprawa klasyfikacji"
   ]
  },
  {
   "cell_type": "markdown",
   "metadata": {},
   "source": [
    "Reading project variable from config.ini file"
   ]
  },
  {
   "cell_type": "code",
   "execution_count": 3,
   "metadata": {},
   "outputs": [],
   "source": [
    "config = ConfigParser()\n",
    "config.read('config.ini')\n",
    "input_dir = config['main']['input_dir']\n",
    "class_file = config['main']['classification_data']\n",
    "x_size = int(config['main']['x_size'])\n",
    "y_size = int(config['main']['y_size'])\n",
    "x = int(config['main']['x_start'])\n",
    "y = int(config['main']['x_start'])\n",
    "class_names = list(config['classes'].values())\n",
    "csv_data_file = config['main']['csv_data_file']"
   ]
  },
  {
   "cell_type": "markdown",
   "metadata": {},
   "source": [
    "Read files from data folder"
   ]
  },
  {
   "cell_type": "code",
   "execution_count": 4,
   "metadata": {},
   "outputs": [
    {
     "name": "stdout",
     "output_type": "stream",
     "text": [
      "diles:  ['T34UDE_20200815T095039_B11_20m.png', 'T34UDE_20200815T095039_B05_20m.png', 'T34UDE_20200815T095039_B8A_20m.png', 'T34UDE_20200815T095039_B03_20m.png', 'T34UDE_20200815T095039_B07_20m.png', 'T34UDE_20200815T095039_B06_20m.png', 'T34UDE_20200815T095039_B04_20m.png', 'T34UDE_20200815T095039_B02_20m.png', 'T34UDE_20200815T095039_B12_20m.png']\n"
     ]
    }
   ],
   "source": [
    "data, columns_names = pre.images_to_numpy(input_dir, x_size, y_size, x, y)"
   ]
  },
  {
   "cell_type": "code",
   "execution_count": 5,
   "metadata": {},
   "outputs": [
    {
     "data": {
      "image/png": "[encoded data removed]",
      "text/plain": [
       "<Figure size 864x288 with 1 Axes>"
      ]
     },
     "metadata": {
      "needs_background": "light"
     },
     "output_type": "display_data"
    }
   ],
   "source": [
    "plot_MinMaxAvg(data)"
   ]
  },
  {
   "cell_type": "markdown",
   "metadata": {},
   "source": [
    "the data has a large variance so we have to deal with outstanding data $ x = min(x,\\overline{x}+3\\sigma_{x}) $ and implement minimax scaller from sklearn. \n",
    "* Normalisation should be done on training and test separetly but the project is just for learning purpose"
   ]
  },
  {
   "cell_type": "code",
   "execution_count": 6,
   "metadata": {},
   "outputs": [],
   "source": [
    " data = pre.remove_outstandings(data)"
   ]
  },
  {
   "cell_type": "code",
   "execution_count": 7,
   "metadata": {},
   "outputs": [
    {
     "data": {
      "image/png": "[encoded data removed]",
      "text/plain": [
       "<Figure size 864x288 with 1 Axes>"
      ]
     },
     "metadata": {
      "needs_background": "light"
     },
     "output_type": "display_data"
    }
   ],
   "source": [
    "plot_MinMaxAvg(data)"
   ]
  },
  {
   "cell_type": "markdown",
   "metadata": {},
   "source": [
    "Read classes from directory"
   ]
  },
  {
   "cell_type": "code",
   "execution_count": 8,
   "metadata": {},
   "outputs": [
    {
     "name": "stdout",
     "output_type": "stream",
     "text": [
      "diles:  ['forests_20m.png', 'water_20m.png', 'farmland_20m.png']\n"
     ]
    }
   ],
   "source": [
    "classes = pre.get_classes(class_file,  x_size, y_size, x, y).astype(int)\n",
    "other = (1 - classes.any(axis=1).astype(int)).reshape(-1,1)\n",
    "columns_names += class_names "
   ]
  },
  {
   "cell_type": "code",
   "execution_count": 9,
   "metadata": {},
   "outputs": [
    {
     "data": {
      "image/png": "[encoded data removed]",
      "text/plain": [
       "<Figure size 432x288 with 1 Axes>"
      ]
     },
     "metadata": {
      "needs_background": "light"
     },
     "output_type": "display_data"
    }
   ],
   "source": [
    "show_classes_distribution(np.concatenate((classes, other), axis=1),class_names)"
   ]
  },
  {
   "cell_type": "markdown",
   "metadata": {},
   "source": [
    "Saving data to csv file"
   ]
  },
  {
   "cell_type": "code",
   "execution_count": 10,
   "metadata": {},
   "outputs": [],
   "source": [
    "data = np.concatenate((data, classes, other), axis=1)\n",
    "data = pd.DataFrame(data, columns=columns_names)\n",
    "data.to_csv(csv_data_file)"
   ]
  }
 ],
 "metadata": {
  "kernelspec": {
   "display_name": "Python 3",
   "language": "python",
   "name": "python3"
  },
  "language_info": {
   "codemirror_mode": {
    "name": "ipython",
    "version": 3
   },
   "file_extension": ".py",
   "mimetype": "text/x-python",
   "name": "python",
   "nbconvert_exporter": "python",
   "pygments_lexer": "ipython3",
   "version": "3.8.2"
  }
 },
 "nbformat": 4,
 "nbformat_minor": 4
}
