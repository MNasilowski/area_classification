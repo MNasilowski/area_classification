{
 "cells": [
  {
   "cell_type": "markdown",
   "id": "natural-estonia",
   "metadata": {},
   "source": [
    "Krok 0: zebranie danych wejściowych\n",
    "\n",
    "Zrodlo danych: Sentinel Pobrane z wykorzystaniem: Creodias Level-1C Liczba warstw 13 Kroki wykonane przed analizą: Zmiana formatu warstw z jp2 na png ze względu na bezproblemową współpracę z OpenCV Skompresowanie wszystkich warstw do rozdzielczości 1830x1830 Umieszczenie wszystkich warstw w katalogu Data\n",
    "\n",
    "Krok 1: Klasyfikacja terenu: Wykorzystano QGIS oraz wtyczkę QuickOSM Z Open Street Map pobrano następujące warstwy: natural water landuse forest landuse farmland Ograniczono ich zasięg do zasięgu zdjęcia z Sentinel\n",
    "\n",
    "TODO: Weryfikacja zgodności danych OSM i Sentinel i ewentualne naniesienie poprawek. Wstępne oględziny nie wykazały znacznych odstępst.\n",
    "\n",
    "Krok 3. Wczytanie danych do Pythona"
   ]
  },
  {
   "cell_type": "code",
   "execution_count": null,
   "id": "continuous-opposition",
   "metadata": {},
   "outputs": [],
   "source": [
    "import cv2\n",
    "import os\n",
    "import numpy as np\n",
    "import pandas as pd\n",
    "from sklearn.preprocessing import MinMaxScaler\n",
    "import matplotlib.pyplot as plt\n",
    "import preprocesing as pre\n",
    "from configparser import ConfigParser\n",
    "from helpers import plot_MinMaxAvg\n",
    "from helpers import plot_values_histogram\n",
    "from sklearn.preprocessing import MinMaxScaler\n",
    "from sklearn.preprocessing import StandardScaler\n",
    "from sklearn.ensemble import ExtraTreesClassifier\n",
    "from sklearn.model_selection import train_test_split\n",
    "from sklearn.metrics import precision_score\n",
    "from sklearn.metrics import accuracy_score\n",
    "from sklearn.metrics import confusion_matrix\n",
    "from sklearn.ensemble import RandomForestClassifier\n",
    "from helpers import undersampling\n",
    "from helpers import show_target_pred_dif\n",
    "from configparser import ConfigParser\n",
    "import matplotlib.pyplot as plt"
   ]
  },
  {
   "cell_type": "code",
   "execution_count": null,
   "id": "czech-transaction",
   "metadata": {},
   "outputs": [],
   "source": [
    "from helpers import show_classes_distribution"
   ]
  },
  {
   "cell_type": "code",
   "execution_count": null,
   "id": "spanish-relationship",
   "metadata": {},
   "outputs": [],
   "source": [
    "config = ConfigParser()\n",
    "config.read('config.ini')\n",
    "input_dir = config['main']['input_dir']\n",
    "class_file = config['main']['classification_data']\n",
    "dx = int(config['main']['x_size'])\n",
    "dy = int(config['main']['y_size'])\n",
    "x_start = int(config['main']['x_start'])\n",
    "y_start = int(config['main']['y_start'])\n",
    "csv_data_file = config['main']['csv_data_file']"
   ]
  },
  {
   "cell_type": "code",
   "execution_count": null,
   "id": "geographic-projection",
   "metadata": {},
   "outputs": [],
   "source": [
    "data, columns_names = pre.images_to_numpy(input_dir, dx, dy, x_start, y_start)"
   ]
  },
  {
   "cell_type": "code",
   "execution_count": null,
   "id": "short-xerox",
   "metadata": {},
   "outputs": [],
   "source": [
    "plot_MinMaxAvg(data, columns_names)"
   ]
  },
  {
   "cell_type": "code",
   "execution_count": null,
   "id": "harmful-brooklyn",
   "metadata": {},
   "outputs": [],
   "source": [
    "plot_values_histogram(data, columns_names, ncols=5)"
   ]
  },
  {
   "cell_type": "code",
   "execution_count": null,
   "id": "choice-convertible",
   "metadata": {},
   "outputs": [],
   "source": [
    " data = pre.remove_outstandings(data)"
   ]
  },
  {
   "cell_type": "code",
   "execution_count": null,
   "id": "british-crossing",
   "metadata": {},
   "outputs": [],
   "source": [
    "plot_MinMaxAvg(data, columns_names)"
   ]
  },
  {
   "cell_type": "code",
   "execution_count": null,
   "id": "bulgarian-titanium",
   "metadata": {},
   "outputs": [],
   "source": [
    "plot_values_histogram(data, columns_names, ncols=5)"
   ]
  },
  {
   "cell_type": "code",
   "execution_count": null,
   "id": "legal-preservation",
   "metadata": {},
   "outputs": [],
   "source": [
    "classes, class_names = pre.get_classes(class_file, dx, dy, x_start, y_start)\n",
    "other = (1 - classes.any(axis=1).astype(int)).reshape(-1,1)\n",
    "class_names += ['other']\n",
    "pre.add_classes_to_config(config, class_names)\n",
    "columns_names += class_names "
   ]
  },
  {
   "cell_type": "code",
   "execution_count": null,
   "id": "graduate-lease",
   "metadata": {},
   "outputs": [],
   "source": [
    "show_classes_distribution(np.concatenate((classes, other), axis=1),class_names)"
   ]
  },
  {
   "cell_type": "code",
   "execution_count": null,
   "id": "dying-picnic",
   "metadata": {},
   "outputs": [],
   "source": [
    "data = np.concatenate((data, classes, other), axis=1)\n",
    "data = pd.DataFrame(data, columns=columns_names)\n",
    "data.to_csv(csv_data_file)"
   ]
  },
  {
   "cell_type": "markdown",
   "id": "complimentary-kuwait",
   "metadata": {},
   "source": [
    "Dane zostały przygotowane teraz możemy spróbować je sklasyfikować"
   ]
  },
  {
   "cell_type": "markdown",
   "id": "present-butter",
   "metadata": {},
   "source": [
    "# Klasyfikacja obszaru z wykorzystaniem lasów losowych"
   ]
  },
  {
   "cell_type": "code",
   "execution_count": null,
   "id": "sublime-assurance",
   "metadata": {},
   "outputs": [],
   "source": [
    "config = ConfigParser()\n",
    "config.read('config.ini')\n",
    "x_size = int(config['main']['x_size'])\n",
    "y_size = int(config['main']['y_size'])\n",
    "clases_names = list(config['classes'].values())\n",
    "nr_of_classes = len(clases_names)\n",
    "csv_data_file = config['main']['csv_data_file']"
   ]
  },
  {
   "cell_type": "code",
   "execution_count": null,
   "id": "nervous-april",
   "metadata": {},
   "outputs": [],
   "source": [
    "df_unchange = pd.read_csv(csv_data_file)\n",
    "df = undersampling(df_unchange,clases_names)\n",
    "df = df_unchange\n",
    "X = df.iloc[:,:-nr_of_classes].to_numpy()\n",
    "Y = df.iloc[:,-nr_of_classes:].to_numpy()"
   ]
  },
  {
   "cell_type": "code",
   "execution_count": null,
   "id": "worse-influence",
   "metadata": {},
   "outputs": [],
   "source": [
    "X_train, X_test, y_train, y_test = train_test_split(X, Y, test_size=0.3)"
   ]
  },
  {
   "cell_type": "code",
   "execution_count": null,
   "id": "impressed-holmes",
   "metadata": {},
   "outputs": [],
   "source": [
    "sc = StandardScaler()\n",
    "X_train = sc.fit_transform(X_train)\n",
    "X_test = sc.transform(X_test)"
   ]
  },
  {
   "cell_type": "code",
   "execution_count": null,
   "id": "chicken-summary",
   "metadata": {},
   "outputs": [],
   "source": [
    "from sklearn.ensemble import RandomForestClassifier\n",
    "clf = RandomForestClassifier(verbose=1,max_depth=5, random_state=0)\n",
    "clf.fit(X_train, y_train)"
   ]
  },
  {
   "cell_type": "code",
   "execution_count": null,
   "id": "basic-adaptation",
   "metadata": {},
   "outputs": [],
   "source": [
    "y_pred_RF = clf.predict(X_test)"
   ]
  },
  {
   "cell_type": "markdown",
   "id": "initial-currency",
   "metadata": {},
   "source": [
    "# Klasyfikacja obszaru z wykorzystaniem sieci neuronowych"
   ]
  },
  {
   "cell_type": "code",
   "execution_count": null,
   "id": "beautiful-declaration",
   "metadata": {},
   "outputs": [],
   "source": [
    "from sklearn.preprocessing import MinMaxScaler\n",
    "from sklearn.model_selection import train_test_split\n",
    "from tensorflow.keras.models import Sequential\n",
    "from tensorflow.keras.layers import Dense\n",
    "from tensorflow.keras.layers import Dropout\n",
    "from tensorflow.keras.layers import Conv2D\n",
    "from tensorflow.keras.layers import Flatten\n",
    "import matplotlib.pyplot as plt\n",
    "from sklearn.metrics import confusion_matrix, accuracy_score\n",
    "from helpers import undersampling\n",
    "from helpers import show_target_pred_dif\n",
    "from configparser import ConfigParser"
   ]
  },
  {
   "cell_type": "code",
   "execution_count": null,
   "id": "antique-johnson",
   "metadata": {},
   "outputs": [],
   "source": [
    "model = Sequential([\n",
    "    Dense(128, input_dim=X_train.shape[1], activation='relu'),\n",
    "    Dropout(0.5),\n",
    "    Dense(256, activation='relu'),\n",
    "    Dropout(0.5),\n",
    "    Dense(64, activation='relu'),\n",
    "    Dense(4, activation='softmax')\n",
    "])"
   ]
  },
  {
   "cell_type": "code",
   "execution_count": null,
   "id": "american-liberal",
   "metadata": {},
   "outputs": [],
   "source": [
    "model.compile(loss='binary_crossentropy', optimizer='adam', metrics=['accuracy'])"
   ]
  },
  {
   "cell_type": "code",
   "execution_count": null,
   "id": "corrected-guess",
   "metadata": {},
   "outputs": [],
   "source": [
    "model.fit(X_train, y_train, epochs=10, batch_size=1000)"
   ]
  },
  {
   "cell_type": "code",
   "execution_count": null,
   "id": "worst-madonna",
   "metadata": {},
   "outputs": [],
   "source": [
    "y_pred_DL = model.predict(X_test)"
   ]
  },
  {
   "cell_type": "markdown",
   "id": "foreign-chambers",
   "metadata": {},
   "source": [
    "# Klasyfikacja obszaru z wykorzystaniem samoorganizujących się map"
   ]
  },
  {
   "cell_type": "code",
   "execution_count": null,
   "id": "overall-reggae",
   "metadata": {},
   "outputs": [],
   "source": [
    "from minisom import MiniSom\n",
    "x_som, y_som = 4,4\n",
    "som = MiniSom(x=x_som, y=y_som, input_len=X.shape[1], sigma=1.0, learning_rate=0.5)\n",
    "som.random_weights_init(X)\n",
    "som.train_random(X, num_iteration=100000, verbose=False)"
   ]
  },
  {
   "cell_type": "code",
   "execution_count": null,
   "id": "virgin-globe",
   "metadata": {},
   "outputs": [],
   "source": [
    "fig, ax = plt.subplots()\n",
    "ax.set_title('SOM')\n",
    "plt.imshow(som.distance_map())\n",
    "for (i, j), z in np.ndenumerate(som.distance_map()):\n",
    "    if z > 0.10:\n",
    "        ax.text(j, i, '{:0.2f}'.format(som.distance_map()[i,j]), ha='center', va='center',color = 'white')"
   ]
  },
  {
   "cell_type": "code",
   "execution_count": null,
   "id": "forbidden-concert",
   "metadata": {},
   "outputs": [],
   "source": [
    "from sklearn.preprocessing import OneHotEncoder\n",
    "enc = OneHotEncoder()\n",
    "y_pred_SOM = [som.winner(x) for x in X]\n",
    "y_pred_SOM = np.array([i[0]*100 + i[1] for i in y_pred_SOM ])\n",
    "y_pred_SOM = enc.fit_transform(y_pred_SOM.reshape(-1, 1)).toarray()"
   ]
  },
  {
   "cell_type": "code",
   "execution_count": null,
   "id": "entire-client",
   "metadata": {},
   "outputs": [],
   "source": [
    "cm = confusion_matrix(Y.argmax(axis=1), y_pred_SOM.argmax(axis=1))"
   ]
  },
  {
   "cell_type": "code",
   "execution_count": null,
   "id": "distributed-persian",
   "metadata": {},
   "outputs": [],
   "source": [
    "from mpl_toolkits.axes_grid1 import make_axes_locatable\n",
    "fig, axs = plt.subplots(figsize=(8,6), ncols = 2, nrows=2)\n",
    "plt.subplots_adjust(top = 0.99, bottom=0.01, hspace=0.2, wspace=0.4)\n",
    "vmax = np.max(cm)/(0.25*len(y_pred_SOM))\n",
    "for i, ax in enumerate(axs.flatten()):\n",
    "    data = cm[i,:].reshape((x_som,y_som))/(0.25*len(y_pred_SOM))\n",
    "    subplot = ax.matshow(data,vmin=0, vmax=vmax, cmap='BuGn')\n",
    "    divider = make_axes_locatable(ax)\n",
    "    cax = divider.append_axes(\"right\", size=\"5%\", pad=0.05)\n",
    "    ax.set_title(df.columns[-4+i])\n",
    "    for (i, j), z in np.ndenumerate(data):\n",
    "        if(z>0.01):\n",
    "            ax.text(j, i, '{:0.2f}'.format(z), ha='center', va='center',color = 'white')\n",
    "    fig.colorbar(subplot, cax=cax)"
   ]
  },
  {
   "cell_type": "code",
   "execution_count": null,
   "id": "consecutive-peter",
   "metadata": {},
   "outputs": [],
   "source": [
    "from helpers import IoU\n",
    "from helpers import metrics_matrix\n",
    "\n",
    "clusstered = np.zeros((x_som,y_som,3))\n",
    "metrix_IoU = metrics_matrix(Y, y_pred_SOM, IoU)\n",
    "clusstered[...,2]=metrix_IoU[:,0].reshape((x_som,y_som))\n",
    "clusstered[...,1]=metrix_IoU[:,1].reshape((x_som,y_som))\n",
    "clusstered[...,0]=metrix_IoU[:,2].reshape((x_som,y_som))\n",
    "fig, ax = plt.subplots()\n",
    "ax.set_title('Intersection over union')\n",
    "plt.imshow(clusstered)\n",
    "for (i, j, k), z in np.ndenumerate(clusstered):\n",
    "    if z > 0.10:\n",
    "        ax.text(j, i, '{:0.2f}'.format(max(clusstered[i,j,:])), ha='center', va='center',color = 'white')"
   ]
  },
  {
   "cell_type": "code",
   "execution_count": null,
   "id": "cellular-going",
   "metadata": {},
   "outputs": [],
   "source": [
    "best_3 = [metrix_IoU[:,i].argsort()[-3:][::-1] for i in range(3)]\n",
    "enc = OneHotEncoder()\n",
    "y_pred_SOM = [som.winner(x) for x in X]\n",
    "y_pred_SOM = np.array([i[0]*100 + i[1] for i in y_pred_SOM ])\n",
    "y_pred_SOM = enc.fit_transform(y_pred_SOM.reshape(-1, 1)).toarray()"
   ]
  },
  {
   "cell_type": "code",
   "execution_count": null,
   "id": "interior-grocery",
   "metadata": {},
   "outputs": [],
   "source": [
    "Y_present = y_pred_SOM.reshape((x_size,y_size,y_pred_SOM.shape[1]))"
   ]
  },
  {
   "cell_type": "code",
   "execution_count": null,
   "id": "environmental-carrier",
   "metadata": {},
   "outputs": [],
   "source": [
    "best_1 = [best_3[i][0] for i in range(3)]"
   ]
  },
  {
   "cell_type": "code",
   "execution_count": null,
   "id": "general-realtor",
   "metadata": {},
   "outputs": [],
   "source": [
    "y_target = Y[...,:-1].reshape((x_size,y_size,3))\n",
    "y_pred = Y_present[...,best_1]"
   ]
  },
  {
   "cell_type": "code",
   "execution_count": null,
   "id": "authorized-tiffany",
   "metadata": {},
   "outputs": [],
   "source": [
    "show_target_pred_dif(y_target,y_pred_SOM)"
   ]
  },
  {
   "cell_type": "code",
   "execution_count": null,
   "id": "jewish-occupation",
   "metadata": {},
   "outputs": [],
   "source": []
  }
 ],
 "metadata": {
  "kernelspec": {
   "display_name": "Python 3",
   "language": "python",
   "name": "python3"
  },
  "language_info": {
   "codemirror_mode": {
    "name": "ipython",
    "version": 3
   },
   "file_extension": ".py",
   "mimetype": "text/x-python",
   "name": "python",
   "nbconvert_exporter": "python",
   "pygments_lexer": "ipython3",
   "version": "3.8.2"
  }
 },
 "nbformat": 4,
 "nbformat_minor": 5
}
