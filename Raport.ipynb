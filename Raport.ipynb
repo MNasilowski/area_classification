{
 "cells": [
  {
   "cell_type": "markdown",
   "id": "impressed-nigeria",
   "metadata": {},
   "source": [
    "# Automatyczna klasyfikacja terenu z wykorzystaniem uczenia maszynowego"
   ]
  },
  {
   "cell_type": "markdown",
   "id": "large-tractor",
   "metadata": {},
   "source": [
    "Zrodlo danych: Sentinel T34UDE_20200815T095039\n",
    "Kroki wykonane przed analizą:\n",
    "* Zmiana formatu warstw z jp2 na png ze względu na bezproblemową współpracę z OpenCV\n",
    "* Klasyfikacja terenu z QGIS oraz wtyczkę QuickOSM\n",
    " ** water\n",
    " ** forest\n",
    " ** farmland\n",
    "* Dla każdego typu terenu utworzono maskę w formie obrazu PNG o rozdzielczości zgodnej z danymi wejściowymi\n",
    "* Utworzenie pliku konfiguracyjnego config.ini"
   ]
  },
  {
   "cell_type": "markdown",
   "id": "improved-nutrition",
   "metadata": {},
   "source": [
    "#### Wczytanie bibliotek"
   ]
  },
  {
   "cell_type": "code",
   "execution_count": null,
   "id": "daily-narrow",
   "metadata": {},
   "outputs": [],
   "source": [
    "import cv2\n",
    "import os\n",
    "import numpy as np\n",
    "import pandas as pd\n",
    "import matplotlib.pyplot as plt\n",
    "\n",
    "from sklearn.preprocessing import MinMaxScaler\n",
    "from sklearn.preprocessing import StandardScaler\n",
    "from sklearn.model_selection import train_test_split\n",
    "from sklearn.ensemble import ExtraTreesClassifier\n",
    "from sklearn.ensemble import RandomForestClassifier\n",
    "from sklearn.metrics import precision_score\n",
    "from sklearn.metrics import accuracy_score\n",
    "from sklearn.metrics import confusion_matrix\n",
    "\n",
    "from configparser import ConfigParser"
   ]
  },
  {
   "cell_type": "code",
   "execution_count": null,
   "id": "architectural-update",
   "metadata": {},
   "outputs": [],
   "source": [
    "import preprocesing as pre\n",
    "import helpers as hlp"
   ]
  },
  {
   "cell_type": "markdown",
   "id": "executed-increase",
   "metadata": {},
   "source": [
    "#### Wczytanie danyc z pliku konfiguracyjnego"
   ]
  },
  {
   "cell_type": "code",
   "execution_count": null,
   "id": "fantastic-audit",
   "metadata": {},
   "outputs": [],
   "source": [
    "config = ConfigParser()\n",
    "\n",
    "config.read('config.ini')\n",
    "input_dir = config['main']['input_dir']# Folder ze zdjęciami z Sentinela\n",
    "class_file = config['main']['classification_data']# Folder z maskami klas\n",
    "# Zdjęcia o rozdzielczości 10m składają sie z ponad 100 milionów pikseli\n",
    "# zatem do analizy wykorzystam tylko jego fragment o rozmiarze dx na dy\n",
    "# i zaczynający się od piksela (x_star, y_start)\n",
    "dx = int(config['main']['x_size'])\n",
    "dy = int(config['main']['y_size'])\n",
    "x_start = int(config['main']['x_start'])\n",
    "y_start = int(config['main']['y_start'])\n",
    "csv_data_file = config['main']['csv_data_file']"
   ]
  },
  {
   "cell_type": "markdown",
   "id": "baking-memorabilia",
   "metadata": {},
   "source": [
    "#### Przekształcamy dane wejściowe w coś przyjemniejszego do analizy"
   ]
  },
  {
   "cell_type": "code",
   "execution_count": null,
   "id": "engaging-grave",
   "metadata": {},
   "outputs": [],
   "source": [
    "data, columns_names = pre.images_to_numpy(input_dir, dx, dy, x_start, y_start)"
   ]
  },
  {
   "cell_type": "code",
   "execution_count": null,
   "id": "monetary-restoration",
   "metadata": {},
   "outputs": [],
   "source": [
    "hlp.plot_MinMaxAvg(data, columns_names)"
   ]
  },
  {
   "cell_type": "code",
   "execution_count": null,
   "id": "hindu-channels",
   "metadata": {},
   "outputs": [],
   "source": [
    "hlp.plot_values_histogram(data, columns_names, ncols=5)"
   ]
  },
  {
   "cell_type": "markdown",
   "id": "communist-jaguar",
   "metadata": {},
   "source": [
    "#### Rozkład wartości pikseli wskazuje na występowanie wartości odstających zatem przekształćmy je w następujący sposób: $ x = min(x,\\overline{x}+3\\sigma_{x}) $ oraz przeskalujmy z wykorzystaniem minmaxscaler z sklearn"
   ]
  },
  {
   "cell_type": "code",
   "execution_count": null,
   "id": "overall-fluid",
   "metadata": {},
   "outputs": [],
   "source": [
    "data = pre.remove_outstandings(data)"
   ]
  },
  {
   "cell_type": "code",
   "execution_count": null,
   "id": "demanding-google",
   "metadata": {},
   "outputs": [],
   "source": [
    "hlp.plot_MinMaxAvg(data, columns_names)"
   ]
  },
  {
   "cell_type": "code",
   "execution_count": null,
   "id": "diagnostic-journalism",
   "metadata": {},
   "outputs": [],
   "source": [
    "hlp.plot_values_histogram(data, columns_names, ncols=5)"
   ]
  },
  {
   "cell_type": "markdown",
   "id": "romance-lebanon",
   "metadata": {},
   "source": [
    "#### Wczytajmy teraz maski klas oraz stwórzmy klasę \"other\""
   ]
  },
  {
   "cell_type": "code",
   "execution_count": null,
   "id": "classified-tuesday",
   "metadata": {},
   "outputs": [],
   "source": [
    "classes, class_names = pre.get_classes(class_file, dx, dy, x_start, y_start)\n",
    "other = (1 - classes.any(axis=1).astype(int)).reshape(-1,1)\n",
    "class_names += ['other']\n",
    "pre.add_classes_to_config(config, class_names)\n",
    "columns_names += class_names "
   ]
  },
  {
   "cell_type": "code",
   "execution_count": null,
   "id": "derived-farmer",
   "metadata": {},
   "outputs": [],
   "source": [
    "hlp.show_classes_distribution(np.concatenate((classes, other), axis=1),class_names)"
   ]
  },
  {
   "cell_type": "code",
   "execution_count": null,
   "id": "still-velvet",
   "metadata": {},
   "outputs": [],
   "source": [
    "data = np.concatenate((data, classes, other), axis=1)\n",
    "data = pd.DataFrame(data, columns=columns_names)\n",
    "data[class_names] = data[class_names].astype('int')"
   ]
  },
  {
   "cell_type": "code",
   "execution_count": null,
   "id": "rough-lodge",
   "metadata": {},
   "outputs": [],
   "source": [
    "data.head()"
   ]
  },
  {
   "cell_type": "markdown",
   "id": "authentic-meditation",
   "metadata": {},
   "source": [
    "Dane zostały przygotowane zapisujemy je i możemy zająć się klasyfikacją"
   ]
  },
  {
   "cell_type": "code",
   "execution_count": null,
   "id": "expired-steps",
   "metadata": {},
   "outputs": [],
   "source": [
    "data.to_csv(csv_data_file)"
   ]
  },
  {
   "cell_type": "markdown",
   "id": "soviet-poultry",
   "metadata": {},
   "source": [
    "#### Wczytujemy nazwy klas"
   ]
  },
  {
   "cell_type": "code",
   "execution_count": null,
   "id": "falling-hazard",
   "metadata": {},
   "outputs": [],
   "source": [
    "config = ConfigParser()\n",
    "config.read('config.ini')\n",
    "clases_names = list(config['classes'].values())\n",
    "nr_of_classes = len(clases_names)"
   ]
  },
  {
   "cell_type": "markdown",
   "id": "secondary-belly",
   "metadata": {},
   "source": [
    "#### Dzielimy dane"
   ]
  },
  {
   "cell_type": "code",
   "execution_count": null,
   "id": "junior-equity",
   "metadata": {},
   "outputs": [],
   "source": [
    "X = data.iloc[:,1:-nr_of_classes].to_numpy()\n",
    "Y = data.iloc[:,-nr_of_classes:].to_numpy()"
   ]
  },
  {
   "cell_type": "code",
   "execution_count": null,
   "id": "indirect-manhattan",
   "metadata": {},
   "outputs": [],
   "source": [
    "X_train, X_test, y_train, y_test = train_test_split(X, Y, test_size=0.3)"
   ]
  },
  {
   "cell_type": "markdown",
   "id": "forced-treasure",
   "metadata": {},
   "source": [
    "# Klasyfikacja obszaru z wykorzystaniem lasów losowych"
   ]
  },
  {
   "cell_type": "markdown",
   "id": "marked-giving",
   "metadata": {},
   "source": [
    "#### Trenowanie"
   ]
  },
  {
   "cell_type": "code",
   "execution_count": null,
   "id": "continued-toner",
   "metadata": {},
   "outputs": [],
   "source": [
    "from sklearn.ensemble import RandomForestClassifier\n",
    "clf = RandomForestClassifier()\n",
    "clf.fit(X_train, y_train)"
   ]
  },
  {
   "cell_type": "markdown",
   "id": "determined-technical",
   "metadata": {},
   "source": [
    "#### Testowanie"
   ]
  },
  {
   "cell_type": "code",
   "execution_count": null,
   "id": "boring-database",
   "metadata": {},
   "outputs": [],
   "source": [
    "y_pred_RF = clf.predict(X_test)"
   ]
  },
  {
   "cell_type": "code",
   "execution_count": null,
   "id": "heavy-hello",
   "metadata": {},
   "outputs": [],
   "source": [
    "print(\"Random forest acc: \",accuracy_score(y_test, y_pred_RF))"
   ]
  },
  {
   "cell_type": "markdown",
   "id": "hungry-lighter",
   "metadata": {},
   "source": [
    "#### Wizualizacja wyników"
   ]
  },
  {
   "cell_type": "code",
   "execution_count": null,
   "id": "higher-rhythm",
   "metadata": {},
   "outputs": [],
   "source": [
    "y_pred_RF = clf.predict(X)\n",
    "y_pred_RF = np.rint(y_pred_RF)\n",
    "a = y_pred_RF.reshape((dx, dy, nr_of_classes))\n",
    "b = Y.reshape((dx, dy, nr_of_classes))\n",
    "hlp.show_target_pred_dif(b,a)"
   ]
  },
  {
   "cell_type": "markdown",
   "id": "received-relations",
   "metadata": {},
   "source": [
    "# Klasyfikacja obszaru z wykorzystaniem sieci neuronowych"
   ]
  },
  {
   "cell_type": "code",
   "execution_count": null,
   "id": "preceding-internet",
   "metadata": {},
   "outputs": [],
   "source": [
    "from tensorflow.keras.models import Sequential\n",
    "from tensorflow.keras.layers import Dense\n",
    "from tensorflow.keras.layers import Dropout\n",
    "from tensorflow.keras.layers import Conv2D\n",
    "from tensorflow.keras.layers import Flatten"
   ]
  },
  {
   "cell_type": "code",
   "execution_count": null,
   "id": "bright-warrant",
   "metadata": {},
   "outputs": [],
   "source": [
    "model = Sequential([\n",
    "    Dense(128, input_dim=X_train.shape[1], activation='relu'),\n",
    "    Dropout(0.5),\n",
    "    Dense(256, activation='relu'),\n",
    "    Dropout(0.5),\n",
    "    Dense(64, activation='relu'),\n",
    "    Dense(4, activation='softmax')\n",
    "])"
   ]
  },
  {
   "cell_type": "code",
   "execution_count": null,
   "id": "future-kitchen",
   "metadata": {},
   "outputs": [],
   "source": [
    "model.summary()"
   ]
  },
  {
   "cell_type": "code",
   "execution_count": null,
   "id": "amber-migration",
   "metadata": {},
   "outputs": [],
   "source": [
    "model.compile(loss='binary_crossentropy', optimizer='adam', metrics=['accuracy'])"
   ]
  },
  {
   "cell_type": "code",
   "execution_count": null,
   "id": "about-massage",
   "metadata": {},
   "outputs": [],
   "source": [
    "model.fit(X_train, y_train, epochs=10, batch_size=1000)"
   ]
  },
  {
   "cell_type": "code",
   "execution_count": null,
   "id": "interpreted-begin",
   "metadata": {},
   "outputs": [],
   "source": [
    "_, accuracy = model.evaluate(X_test, y_test)\n",
    "print(f'Deap learning acc: {accuracy}')"
   ]
  },
  {
   "cell_type": "markdown",
   "id": "marine-arrest",
   "metadata": {},
   "source": [
    "#### Wizualizacja wyników"
   ]
  },
  {
   "cell_type": "code",
   "execution_count": null,
   "id": "deluxe-mitchell",
   "metadata": {},
   "outputs": [],
   "source": [
    "y_pred_DL = model.predict(X)\n",
    "y_pred_DL = np.rint(y_pred_DL)\n",
    "a = y_pred_RF.reshape((dx, dy, nr_of_classes))\n",
    "b = Y.reshape((dx, dy, nr_of_classes))\n",
    "hlp.show_target_pred_dif(b,a)"
   ]
  },
  {
   "cell_type": "markdown",
   "id": "working-fabric",
   "metadata": {},
   "source": [
    "# Klasyfikacja obszaru z wykorzystaniem samoorganizujących się map"
   ]
  },
  {
   "cell_type": "code",
   "execution_count": null,
   "id": "faced-squad",
   "metadata": {},
   "outputs": [],
   "source": [
    "from minisom import MiniSom\n",
    "x_som, y_som = 5,5\n",
    "som = MiniSom(x=x_som, y=y_som, input_len=X.shape[1], sigma=1.0, learning_rate=0.5)\n",
    "som.random_weights_init(X)\n",
    "som.train_random(X, num_iteration=100000, verbose=False)"
   ]
  },
  {
   "cell_type": "markdown",
   "id": "outside-saturn",
   "metadata": {},
   "source": [
    "#### rysujemy mapę"
   ]
  },
  {
   "cell_type": "code",
   "execution_count": null,
   "id": "arctic-excerpt",
   "metadata": {},
   "outputs": [],
   "source": [
    "fig, ax = plt.subplots()\n",
    "ax.set_title('SOM')\n",
    "plt.imshow(som.distance_map())\n",
    "for (i, j), z in np.ndenumerate(som.distance_map()):\n",
    "    ax.text(j, i, '{:0.2f}'.format(som.distance_map()[i,j]), ha='center', va='center',color = 'white')"
   ]
  },
  {
   "cell_type": "markdown",
   "id": "opponent-rebel",
   "metadata": {},
   "source": [
    "#### Klasyfikujemy\n",
    "Każdemu punktowi możemy przypisać jeden z neuronów mapy"
   ]
  },
  {
   "cell_type": "code",
   "execution_count": null,
   "id": "still-turkish",
   "metadata": {},
   "outputs": [],
   "source": [
    "y_pred_SOM = [som.winner(x) for x in X]\n",
    "y_pred_SOM = np.array([i[0]*100 + i[1] for i in y_pred_SOM ])"
   ]
  },
  {
   "cell_type": "markdown",
   "id": "experimental-spyware",
   "metadata": {},
   "source": [
    "#### One Hot Encode"
   ]
  },
  {
   "cell_type": "code",
   "execution_count": null,
   "id": "distant-rider",
   "metadata": {},
   "outputs": [],
   "source": [
    "from sklearn.preprocessing import OneHotEncoder\n",
    "enc = OneHotEncoder()\n",
    "y_pred_SOM = enc.fit_transform(y_pred_SOM.reshape(-1, 1)).toarray()"
   ]
  },
  {
   "cell_type": "code",
   "execution_count": null,
   "id": "transsexual-depth",
   "metadata": {},
   "outputs": [],
   "source": [
    "xxx = list(range(25))\n",
    "hlp.show_classes_distribution(y_pred_SOM, xxx)"
   ]
  },
  {
   "cell_type": "markdown",
   "id": "impaired-tomato",
   "metadata": {},
   "source": [
    "#### Walidacja"
   ]
  },
  {
   "cell_type": "code",
   "execution_count": null,
   "id": "biblical-writer",
   "metadata": {},
   "outputs": [],
   "source": [
    "clusstered = np.zeros((x_som,y_som,3))\n",
    "matrix_IoU = hlp.metrics_matrix(Y, y_pred_SOM, hlp.IoU)\n",
    "clusstered[...,2]=matrix_IoU[:,0].reshape((x_som,y_som))\n",
    "clusstered[...,1]=matrix_IoU[:,1].reshape((x_som,y_som))\n",
    "clusstered[...,0]=matrix_IoU[:,2].reshape((x_som,y_som))\n",
    "fig, ax = plt.subplots()\n",
    "ax.set_title('Intersection over union')\n",
    "plt.imshow(clusstered)\n",
    "for (i, j, k), z in np.ndenumerate(clusstered):\n",
    "    if z > 0.05:\n",
    "        ax.text(j, i, '{:0.2f}'.format(max(clusstered[i,j,:])), ha='center', va='center',color = 'white')"
   ]
  },
  {
   "cell_type": "markdown",
   "id": "shared-barrier",
   "metadata": {},
   "source": [
    "Kolorami oznaczono klasę którą reprezentują. Słabe wyniki spowodowane są dużo wyższą liczbą otrzymanych klas niż klas które mieliśmy początkowo."
   ]
  },
  {
   "cell_type": "code",
   "execution_count": null,
   "id": "christian-report",
   "metadata": {},
   "outputs": [],
   "source": [
    "best_2 = [matrix_IoU[:,i].argsort()[-2:][::-1] for i in range(3)]\n",
    "frs = [i[0] for i in best_2]\n",
    "snd = [i[1] for i in best_2]"
   ]
  },
  {
   "cell_type": "code",
   "execution_count": null,
   "id": "fiscal-satisfaction",
   "metadata": {},
   "outputs": [],
   "source": [
    "Y_present = y_pred_SOM.reshape((dx,dy,y_pred_SOM.shape[1]))"
   ]
  },
  {
   "cell_type": "code",
   "execution_count": null,
   "id": "other-wells",
   "metadata": {},
   "outputs": [],
   "source": [
    "y_target = Y[...,:-1].reshape((dx,dy,nr_of_classes - 1))\n",
    "y_present = Y_present[...,frs] + Y_present[...,snd]"
   ]
  },
  {
   "cell_type": "code",
   "execution_count": null,
   "id": "according-equality",
   "metadata": {},
   "outputs": [],
   "source": [
    "hlp.show_target_pred_dif(y_target,y_present)"
   ]
  },
  {
   "cell_type": "markdown",
   "id": "abandoned-provider",
   "metadata": {},
   "source": [
    "# Porównanie skuteczności algorytmów"
   ]
  },
  {
   "cell_type": "code",
   "execution_count": null,
   "id": "painted-shield",
   "metadata": {},
   "outputs": [],
   "source": [
    "y_RF = clf.predict(X)"
   ]
  },
  {
   "cell_type": "code",
   "execution_count": null,
   "id": "german-student",
   "metadata": {},
   "outputs": [],
   "source": [
    "hlp.show_classes_distribution(y_RF, class_names)"
   ]
  },
  {
   "cell_type": "code",
   "execution_count": null,
   "id": "editorial-trademark",
   "metadata": {},
   "outputs": [],
   "source": [
    "y_DL = model.predict(X)"
   ]
  },
  {
   "cell_type": "code",
   "execution_count": null,
   "id": "broke-homeless",
   "metadata": {},
   "outputs": [],
   "source": [
    "y_DL = np.rint(y_DL)"
   ]
  },
  {
   "cell_type": "code",
   "execution_count": null,
   "id": "sixth-angel",
   "metadata": {},
   "outputs": [],
   "source": [
    "hlp.show_classes_distribution(y_DL, class_names)"
   ]
  },
  {
   "cell_type": "code",
   "execution_count": null,
   "id": "blessed-legislature",
   "metadata": {},
   "outputs": [],
   "source": [
    "hlp.show_target_pred_dif(y_RF.reshape((dx,dy,nr_of_classes)),y_DL.reshape((dx,dy,nr_of_classes)))"
   ]
  },
  {
   "cell_type": "code",
   "execution_count": null,
   "id": "compact-belle",
   "metadata": {},
   "outputs": [],
   "source": []
  },
  {
   "cell_type": "markdown",
   "id": "relative-stranger",
   "metadata": {},
   "source": [
    "# Analiza wyników"
   ]
  },
  {
   "cell_type": "code",
   "execution_count": null,
   "id": "protected-consumption",
   "metadata": {},
   "outputs": [],
   "source": []
  },
  {
   "cell_type": "code",
   "execution_count": null,
   "id": "norman-postage",
   "metadata": {},
   "outputs": [],
   "source": []
  }
 ],
 "metadata": {
  "kernelspec": {
   "display_name": "Python 3",
   "language": "python",
   "name": "python3"
  },
  "language_info": {
   "codemirror_mode": {
    "name": "ipython",
    "version": 3
   },
   "file_extension": ".py",
   "mimetype": "text/x-python",
   "name": "python",
   "nbconvert_exporter": "python",
   "pygments_lexer": "ipython3",
   "version": "3.8.2"
  }
 },
 "nbformat": 4,
 "nbformat_minor": 5
}
