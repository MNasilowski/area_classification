{
 "cells": [
  {
   "cell_type": "markdown",
   "id": "associate-sussex",
   "metadata": {},
   "source": [
    "# Automatyczna klasyfikacja terenu z wykorzystaniem uczenia maszynowego"
   ]
  },
  {
   "cell_type": "markdown",
   "id": "public-underground",
   "metadata": {},
   "source": [
    "Zrodlo danych: Sentinel T34UDE_20200815T095039\n",
    "Kroki wykonane przed analizą:\n",
    "* Zmiana formatu warstw z jp2 na png ze względu na bezproblemową współpracę z OpenCV\n",
    "* Klasyfikacja terenu z QGIS oraz wtyczkę QuickOSM\n",
    " ** water\n",
    " ** forest\n",
    " ** farmland\n",
    "* Dla każdego typu terenu utworzono maskę w formie obrazu PNG o rozdzielczości zgodnej z danymi wejściowymi\n",
    "* Utworzenie pliku konfiguracyjnego config.ini"
   ]
  },
  {
   "cell_type": "markdown",
   "id": "fallen-indicator",
   "metadata": {},
   "source": [
    "#### Wczytanie bibliotek"
   ]
  },
  {
   "cell_type": "code",
   "execution_count": null,
   "id": "given-controversy",
   "metadata": {},
   "outputs": [],
   "source": [
    "import numpy as np\n",
    "import pandas as pd\n",
    "import matplotlib.pyplot as plt\n",
    "\n",
    "from sklearn.model_selection import train_test_split\n",
    "from sklearn.metrics import accuracy_score\n",
    "\n",
    "from configparser import ConfigParser\n",
    "from time import time"
   ]
  },
  {
   "cell_type": "code",
   "execution_count": null,
   "id": "worst-coffee",
   "metadata": {},
   "outputs": [],
   "source": [
    "import preprocesing as pre\n",
    "import helpers as hlp"
   ]
  },
  {
   "cell_type": "markdown",
   "id": "atlantic-publication",
   "metadata": {},
   "source": [
    "#### Wczytanie danyc z pliku konfiguracyjnego"
   ]
  },
  {
   "cell_type": "code",
   "execution_count": null,
   "id": "objective-isolation",
   "metadata": {},
   "outputs": [],
   "source": [
    "config = ConfigParser()\n",
    "config.read('config.ini')\n",
    "input_dir = config['main']['input_dir']# Folder ze zdjęciami z Sentinela\n",
    "classes_file = config['main']['classification_data']# Folder z maskami klas"
   ]
  },
  {
   "cell_type": "markdown",
   "id": "compliant-drain",
   "metadata": {},
   "source": [
    "Zdjęcia o rozdzielczości 10m składają sie z ponad 100 milionów pikseli\n",
    "zatem do analizy wykorzystam tylko jego fragment o rozmiarze dx na dy\n",
    "i zaczynający się od piksela (x_star, y_start)"
   ]
  },
  {
   "cell_type": "code",
   "execution_count": null,
   "id": "hazardous-leone",
   "metadata": {},
   "outputs": [],
   "source": [
    "dx = int(config['main']['x_size'])\n",
    "dy = int(config['main']['y_size'])\n",
    "x_start = int(config['main']['x_start'])\n",
    "y_start = int(config['main']['y_start'])\n",
    "csv_data_file = config['main']['csv_data_file']"
   ]
  },
  {
   "cell_type": "markdown",
   "id": "effective-glance",
   "metadata": {},
   "source": [
    "#### Przekształcamy dane wejściowe w coś przyjemniejszego do analizy"
   ]
  },
  {
   "cell_type": "code",
   "execution_count": null,
   "id": "limiting-workstation",
   "metadata": {},
   "outputs": [],
   "source": [
    "data, columns_names = pre.images_to_numpy(input_dir, dx, dy, x_start, y_start)"
   ]
  },
  {
   "cell_type": "code",
   "execution_count": null,
   "id": "vietnamese-costs",
   "metadata": {},
   "outputs": [],
   "source": [
    "hlp.plot_MinMaxAvg(data, columns_names)"
   ]
  },
  {
   "cell_type": "code",
   "execution_count": null,
   "id": "single-jordan",
   "metadata": {},
   "outputs": [],
   "source": [
    "hlp.plot_values_histogram(data, columns_names, ncols=4)"
   ]
  },
  {
   "cell_type": "markdown",
   "id": "robust-static",
   "metadata": {},
   "source": [
    "Rozkład wartości pikseli wskazuje na występowanie wartości odstających zatem przekształćmy je w następujący sposób: $ x = min(x,\\overline{x}+3\\sigma_{x}) $ oraz przeskalujmy z wykorzystaniem minmaxscaler z sklearn."
   ]
  },
  {
   "cell_type": "code",
   "execution_count": null,
   "id": "emerging-express",
   "metadata": {},
   "outputs": [],
   "source": [
    "data = pre.remove_outstandings(data)"
   ]
  },
  {
   "cell_type": "code",
   "execution_count": null,
   "id": "irish-jewel",
   "metadata": {},
   "outputs": [],
   "source": [
    "hlp.plot_MinMaxAvg(data, columns_names)"
   ]
  },
  {
   "cell_type": "code",
   "execution_count": null,
   "id": "surface-arrest",
   "metadata": {},
   "outputs": [],
   "source": [
    "hlp.plot_values_histogram(data, columns_names, ncols=4)"
   ]
  },
  {
   "cell_type": "markdown",
   "id": "asian-vienna",
   "metadata": {},
   "source": [
    "#### Wczytajmy teraz maski klas oraz stwórzmy klasę \"other\""
   ]
  },
  {
   "cell_type": "code",
   "execution_count": null,
   "id": "regulated-evolution",
   "metadata": {},
   "outputs": [],
   "source": [
    "classes, classes_names = pre.get_classes(classes_file, dx, dy, x_start, y_start)\n",
    "other = (1 - classes.any(axis=1).astype(int)).reshape(-1, 1)\n",
    "classes_names += ['other']\n",
    "pre.add_classes_to_config(config, classes_names)\n",
    "columns_names += classes_names \n",
    "nr_of_classes = len(classes_names)"
   ]
  },
  {
   "cell_type": "code",
   "execution_count": null,
   "id": "decimal-treasure",
   "metadata": {},
   "outputs": [],
   "source": [
    "hlp.show_classes_distribution(np.concatenate((classes, other), axis=1), classes_names)"
   ]
  },
  {
   "cell_type": "markdown",
   "id": "living-module",
   "metadata": {},
   "source": [
    "#### Łączymy wszystko"
   ]
  },
  {
   "cell_type": "code",
   "execution_count": null,
   "id": "british-opinion",
   "metadata": {},
   "outputs": [],
   "source": [
    "data = np.concatenate((data, classes, other), axis=1)\n",
    "data = pd.DataFrame(data, columns=columns_names)\n",
    "data[classes_names] = data[classes_names].astype('int')"
   ]
  },
  {
   "cell_type": "code",
   "execution_count": null,
   "id": "designing-offering",
   "metadata": {},
   "outputs": [],
   "source": [
    "data.head()"
   ]
  },
  {
   "cell_type": "markdown",
   "id": "concerned-owner",
   "metadata": {},
   "source": [
    "#### Dane zostały przygotowane zapisujemy je i możemy zająć się klasyfikacją"
   ]
  },
  {
   "cell_type": "code",
   "execution_count": null,
   "id": "sought-providence",
   "metadata": {},
   "outputs": [],
   "source": [
    "data.to_csv(csv_data_file)"
   ]
  },
  {
   "cell_type": "markdown",
   "id": "narrow-comparative",
   "metadata": {},
   "source": [
    "#### Dzielimy dane"
   ]
  },
  {
   "cell_type": "code",
   "execution_count": null,
   "id": "critical-junior",
   "metadata": {},
   "outputs": [],
   "source": [
    "X = data.iloc[:,1:-nr_of_classes].to_numpy()\n",
    "Y = data.iloc[:,-nr_of_classes:].to_numpy()\n",
    "xyz = (dx,dy,nr_of_classes)"
   ]
  },
  {
   "cell_type": "markdown",
   "id": "essential-october",
   "metadata": {},
   "source": [
    "Zwalniamy trochę pamięci"
   ]
  },
  {
   "cell_type": "code",
   "execution_count": null,
   "id": "backed-burns",
   "metadata": {},
   "outputs": [],
   "source": [
    "del data\n",
    "del classes\n",
    "del other"
   ]
  },
  {
   "cell_type": "code",
   "execution_count": null,
   "id": "southeast-statistics",
   "metadata": {},
   "outputs": [],
   "source": [
    "X_train, X_test, Y_train, Y_test = train_test_split(X, Y, test_size=0.3)"
   ]
  },
  {
   "cell_type": "markdown",
   "id": "loaded-adjustment",
   "metadata": {},
   "source": [
    "# Klasyfikacja obszaru z wykorzystaniem lasów losowych"
   ]
  },
  {
   "cell_type": "markdown",
   "id": "tamil-expense",
   "metadata": {},
   "source": [
    "#### Trenowanie"
   ]
  },
  {
   "cell_type": "code",
   "execution_count": null,
   "id": "preliminary-highway",
   "metadata": {},
   "outputs": [],
   "source": [
    "from sklearn.ensemble import RandomForestClassifier\n",
    "clf = RandomForestClassifier()\n",
    "tic = time()\n",
    "clf.fit(X_train, Y_train)\n",
    "time_RF = time() - tic"
   ]
  },
  {
   "cell_type": "markdown",
   "id": "valuable-transcript",
   "metadata": {},
   "source": [
    "#### Testowanie"
   ]
  },
  {
   "cell_type": "code",
   "execution_count": null,
   "id": "powered-trance",
   "metadata": {},
   "outputs": [],
   "source": [
    "Y_pred_RF = clf.predict(X_test)"
   ]
  },
  {
   "cell_type": "code",
   "execution_count": null,
   "id": "greater-ending",
   "metadata": {},
   "outputs": [],
   "source": [
    "print(\"Random forest acc: \",accuracy_score(Y_test, Y_pred_RF))"
   ]
  },
  {
   "cell_type": "markdown",
   "id": "special-stage",
   "metadata": {},
   "source": [
    "#### Wizualizacja wyników"
   ]
  },
  {
   "cell_type": "code",
   "execution_count": null,
   "id": "described-master",
   "metadata": {},
   "outputs": [],
   "source": [
    "Y_pred_RF = clf.predict(X)\n",
    "Y_pred_RF = np.rint(Y_pred_RF)\n",
    "hlp.show_target_pred_dif(Y.reshape(xyz), Y_pred_RF.reshape((dx, dy, nr_of_classes)))"
   ]
  },
  {
   "cell_type": "markdown",
   "id": "occasional-estimate",
   "metadata": {},
   "source": [
    "# Klasyfikacja obszaru z wykorzystaniem sieci neuronowych"
   ]
  },
  {
   "cell_type": "code",
   "execution_count": null,
   "id": "cardiovascular-people",
   "metadata": {},
   "outputs": [],
   "source": [
    "from tensorflow.keras.models import Sequential\n",
    "from tensorflow.keras.layers import Dense\n",
    "from tensorflow.keras.layers import Dropout"
   ]
  },
  {
   "cell_type": "markdown",
   "id": "ordinary-twenty",
   "metadata": {},
   "source": [
    "#### Przygotowujemy model"
   ]
  },
  {
   "cell_type": "code",
   "execution_count": null,
   "id": "marked-period",
   "metadata": {},
   "outputs": [],
   "source": [
    "model = Sequential([\n",
    "    Dense(128, input_dim=X_train.shape[1], activation='relu'),\n",
    "    Dense(256, activation='relu'),\n",
    "    Dropout(0.5),\n",
    "    Dense(256, activation='relu'),\n",
    "    Dropout(0.5),\n",
    "    Dense(64, activation='relu'),\n",
    "    Dense(4, activation='softmax')\n",
    "])"
   ]
  },
  {
   "cell_type": "code",
   "execution_count": null,
   "id": "damaged-glenn",
   "metadata": {},
   "outputs": [],
   "source": [
    "#### TODO dodanie warstwy conwoluacyjnej powinno poprawić skuteczność. "
   ]
  },
  {
   "cell_type": "code",
   "execution_count": null,
   "id": "improving-cocktail",
   "metadata": {},
   "outputs": [],
   "source": [
    "model.summary()"
   ]
  },
  {
   "cell_type": "code",
   "execution_count": null,
   "id": "controlling-sheet",
   "metadata": {},
   "outputs": [],
   "source": [
    "model.compile(loss='binary_crossentropy', optimizer='adam', metrics=['accuracy'])"
   ]
  },
  {
   "cell_type": "markdown",
   "id": "decimal-example",
   "metadata": {},
   "source": [
    "#### Trenujemy"
   ]
  },
  {
   "cell_type": "code",
   "execution_count": null,
   "id": "practical-biography",
   "metadata": {},
   "outputs": [],
   "source": [
    "tic = time()\n",
    "history = model.fit(X_train, Y_train, validation_data = (X_test, Y_test), shuffle = 'True', epochs=50, batch_size=100000)"
   ]
  },
  {
   "cell_type": "code",
   "execution_count": null,
   "id": "designed-paraguay",
   "metadata": {},
   "outputs": [],
   "source": [
    "time_DL = time()-tic"
   ]
  },
  {
   "cell_type": "code",
   "execution_count": null,
   "id": "prospective-leonard",
   "metadata": {},
   "outputs": [],
   "source": [
    "_, accuracy = model.evaluate(X_test, Y_test)\n",
    "print(f'Deap learning acc: {accuracy}')"
   ]
  },
  {
   "cell_type": "code",
   "execution_count": null,
   "id": "adjustable-expression",
   "metadata": {},
   "outputs": [],
   "source": [
    "hlp.plot_keras_history(history)"
   ]
  },
  {
   "cell_type": "markdown",
   "id": "legitimate-celtic",
   "metadata": {},
   "source": [
    "Dokładność na danych testowych jest wyższa niż na danych uczących ze względu na niedokładności ręcznej klasyfikacji"
   ]
  },
  {
   "cell_type": "markdown",
   "id": "impaired-cooking",
   "metadata": {},
   "source": [
    "#### Wizualizacja wyników"
   ]
  },
  {
   "cell_type": "code",
   "execution_count": null,
   "id": "digital-assembly",
   "metadata": {},
   "outputs": [],
   "source": [
    "Y_pred_DL = model.predict(X)\n",
    "Y_pred_DL = np.rint(Y_pred_DL)\n",
    "hlp.show_target_pred_dif(Y.reshape(xyz), Y_pred_RF.reshape((dx, dy, nr_of_classes)))"
   ]
  },
  {
   "cell_type": "markdown",
   "id": "transsexual-outline",
   "metadata": {},
   "source": [
    "# Klasyfikacja obszaru z wykorzystaniem samoorganizujących się map"
   ]
  },
  {
   "cell_type": "code",
   "execution_count": null,
   "id": "found-median",
   "metadata": {},
   "outputs": [],
   "source": [
    "from minisom import MiniSom\n",
    "x_som, y_som = 4,4\n",
    "som = MiniSom(x=x_som, y=y_som, input_len=X.shape[1], sigma=1.0, learning_rate=0.5)\n",
    "som.random_weights_init(X)\n",
    "som.train_random(X, num_iteration=100000, verbose=False)"
   ]
  },
  {
   "cell_type": "markdown",
   "id": "actual-dream",
   "metadata": {},
   "source": [
    "#### Klasyfikujemy\n",
    "Każdemu punktowi możemy przypisać jeden z neuronów mapy"
   ]
  },
  {
   "cell_type": "code",
   "execution_count": null,
   "id": "private-requirement",
   "metadata": {},
   "outputs": [],
   "source": [
    "Y_pred_SOM = [som.winner(x) for x in X]\n",
    "Y_pred_SOM = np.array([str(i) for i in Y_pred_SOM ])"
   ]
  },
  {
   "cell_type": "markdown",
   "id": "earlier-timothy",
   "metadata": {},
   "source": [
    "#### One Hot Encode"
   ]
  },
  {
   "cell_type": "code",
   "execution_count": null,
   "id": "otherwise-causing",
   "metadata": {},
   "outputs": [],
   "source": [
    "from sklearn.preprocessing import OneHotEncoder\n",
    "enc = OneHotEncoder()\n",
    "Y_pred_SOM = enc.fit_transform(Y_pred_SOM.reshape(-1, 1)).toarray()"
   ]
  },
  {
   "cell_type": "code",
   "execution_count": null,
   "id": "filled-yesterday",
   "metadata": {},
   "outputs": [],
   "source": [
    "hlp.show_classes_distribution(Y_pred_SOM, list(range(Y_pred_SOM.shape[1])))"
   ]
  },
  {
   "cell_type": "code",
   "execution_count": null,
   "id": "bacterial-cylinder",
   "metadata": {},
   "outputs": [],
   "source": [
    "mapa = np.sum(Y_pred_SOM*som.distance_map().flatten(), axis=1)"
   ]
  },
  {
   "cell_type": "markdown",
   "id": "preceding-dominant",
   "metadata": {},
   "source": [
    "#### rysujemy mapę"
   ]
  },
  {
   "cell_type": "code",
   "execution_count": null,
   "id": "capable-fifteen",
   "metadata": {},
   "outputs": [],
   "source": [
    "fig, (ax1, ax2) = plt.subplots(figsize=(10,4), ncols=2, nrows=1)\n",
    "ax1.set_title('SOM')\n",
    "ax1.imshow(som.distance_map())\n",
    "for (i, j), z in np.ndenumerate(som.distance_map()):\n",
    "    ax1.text(j, i, '{:0.2f}'.format(som.distance_map()[i,j]), ha='center', va='center',color = 'white')\n",
    "ax2.set_title('After classification')\n",
    "ax2.imshow(mapa.reshape((dx,dy)))"
   ]
  },
  {
   "cell_type": "code",
   "execution_count": null,
   "id": "basic-commander",
   "metadata": {},
   "outputs": [],
   "source": [
    "import cv2\n",
    "cv2.imwrite('wynik_som.png', mapa.reshape((dx,dy))*255)"
   ]
  },
  {
   "cell_type": "markdown",
   "id": "dedicated-links",
   "metadata": {},
   "source": [
    "#### Walidacja"
   ]
  },
  {
   "cell_type": "code",
   "execution_count": null,
   "id": "senior-suspect",
   "metadata": {},
   "outputs": [],
   "source": [
    "clusstered = np.zeros((x_som,y_som,3))\n",
    "matrix_IoU = hlp.metrics_matrix(Y, Y_pred_SOM, hlp.IoU)\n",
    "clusstered[...,2]=matrix_IoU[:,2].reshape((x_som,y_som))#Klasa 1 kolor niebieski\n",
    "clusstered[...,1]=matrix_IoU[:,1].reshape((x_som,y_som))#Klasa 2 kolor zielony\n",
    "clusstered[...,0]=matrix_IoU[:,0].reshape((x_som,y_som))#Klasa 3 kolor czerwony\n",
    "fig, ax = plt.subplots()\n",
    "ax.set_title('Intersection over union')\n",
    "plt.imshow(clusstered)\n",
    "for (i, j, k), z in np.ndenumerate(clusstered):\n",
    "    if z > 0.05:\n",
    "        ax.text(j, i, '{:0.2f}'.format(max(clusstered[i,j,:])), ha='center', va='center',color = 'white')"
   ]
  },
  {
   "cell_type": "markdown",
   "id": "straight-pavilion",
   "metadata": {},
   "source": [
    "Kolorami oznaczono klasę którą reprezentują. Słabe wyniki spowodowane są dużo wyższą liczbą otrzymanych klas niż klas które mieliśmy początkowo."
   ]
  },
  {
   "cell_type": "code",
   "execution_count": null,
   "id": "opposite-harris",
   "metadata": {},
   "outputs": [],
   "source": [
    "best = [matrix_IoU[:,i].argsort()[-1] for i in range(3)]"
   ]
  },
  {
   "cell_type": "code",
   "execution_count": null,
   "id": "neither-situation",
   "metadata": {},
   "outputs": [],
   "source": [
    "hlp.show_target_pred_dif(Y.reshape(xyz)[...,:-1], Y_pred_SOM.reshape((dx,dy,Y_pred_SOM.shape[1]))[...,best])"
   ]
  },
  {
   "cell_type": "code",
   "execution_count": null,
   "id": "answering-craps",
   "metadata": {},
   "outputs": [],
   "source": [
    "yt, yp = Y.reshape(xyz)[...,1],  Y_pred_RF.reshape(xyz)[...,1]\n",
    "cv2.imwrite('RF.png',(yt-yp+1)*127)"
   ]
  },
  {
   "cell_type": "code",
   "execution_count": null,
   "id": "internal-incident",
   "metadata": {},
   "outputs": [],
   "source": [
    "yt, yp = Y.reshape(xyz)[...,1],  Y_pred_DL.reshape(xyz)[...,1]\n",
    "cv2.imwrite('DL.png',(yt-yp+1)*127)"
   ]
  },
  {
   "cell_type": "markdown",
   "id": "incident-floating",
   "metadata": {},
   "source": [
    "# Walidacja:"
   ]
  },
  {
   "cell_type": "markdown",
   "id": "abandoned-spring",
   "metadata": {},
   "source": [
    "Jako miarę poprawności algorytmu wybrałem \n",
    "Indeks Jaccarda w skrócie IoU\n",
    "$$IoU = \\frac{A \\cap B}{A \\cup B} $$"
   ]
  },
  {
   "cell_type": "markdown",
   "id": "productive-consciousness",
   "metadata": {},
   "source": [
    "TODO dodać inne metryki"
   ]
  },
  {
   "cell_type": "code",
   "execution_count": null,
   "id": "selected-anderson",
   "metadata": {},
   "outputs": [],
   "source": [
    "from sklearn.metrics import confusion_matrix, accuracy_score"
   ]
  },
  {
   "cell_type": "markdown",
   "id": "empirical-topic",
   "metadata": {},
   "source": [
    "def acc(cm):\n",
    "    accuracy = []\n",
    "    for i in range(cm.shape[0]):\n",
    "        accuracy.append((np.sum(cm) - np.sum(cm[i,:]) - np.sum(cm[:,i]) + 2*cm[i,i])/np.sum(cm))\n",
    "    return accuracy\n",
    "\n",
    "def prec(cm):\n",
    "    precision = []\n",
    "    for i in range(cm.shape[0]):\n",
    "        precision.append(cm[i,i]/(np.sum(cm[:,i])))\n",
    "    return precision"
   ]
  },
  {
   "cell_type": "code",
   "execution_count": null,
   "id": "above-darwin",
   "metadata": {},
   "outputs": [],
   "source": [
    "IoU_DL = [hlp.IoU(Y[...,i],Y_pred_DL[...,i]) for i in range(4)]"
   ]
  },
  {
   "cell_type": "code",
   "execution_count": null,
   "id": "ultimate-james",
   "metadata": {},
   "outputs": [],
   "source": [
    "IoU_RF = [hlp.IoU(Y[...,i],Y_pred_RF[...,i]) for i in range(4)]"
   ]
  },
  {
   "cell_type": "code",
   "execution_count": null,
   "id": "connected-insulation",
   "metadata": {},
   "outputs": [],
   "source": [
    "cm_DL = confusion_matrix(Y.argmax(axis=1), Y_pred_DL.argmax(axis=1))\n",
    "cm_RF = confusion_matrix(Y.argmax(axis=1), Y_pred_RF.argmax(axis=1))"
   ]
  },
  {
   "cell_type": "code",
   "execution_count": null,
   "id": "presidential-framing",
   "metadata": {},
   "outputs": [],
   "source": []
  },
  {
   "cell_type": "code",
   "execution_count": null,
   "id": "considerable-blade",
   "metadata": {},
   "outputs": [],
   "source": [
    "validation = pd.DataFrame(columns=['model'] + classes_names)"
   ]
  },
  {
   "cell_type": "code",
   "execution_count": null,
   "id": "promotional-mixer",
   "metadata": {},
   "outputs": [],
   "source": [
    "validation.loc[0]=(['IoU_DL']+IoU_DL)\n",
    "validation.loc[1]=(['IoU_RF']+IoU_RF)\n",
    "validation.loc[2]=(['Acc_DL']+hlp.acc(cm_DL))\n",
    "validation.loc[3]=(['Acc_RF']+hlp.acc(cm_RF))\n",
    "validation.loc[4]=(['Prec_DL']+hlp.prec(cm_DL))\n",
    "validation.loc[5]=(['Prec_RF']+hlp.prec(cm_RF))\n",
    "validation"
   ]
  },
  {
   "cell_type": "code",
   "execution_count": null,
   "id": "detailed-lewis",
   "metadata": {},
   "outputs": [],
   "source": [
    "models_names = ['DL','RF', 'SOM']\n",
    "colors = ['black', 'white']\n",
    "fig = plt.figure(figsize=(10,12))\n",
    "gs = fig.add_gridspec(3,2)\n",
    "axs = []\n",
    "axs.append(fig.add_subplot(gs[0, 0]))\n",
    "axs.append(fig.add_subplot(gs[1, 0]))\n",
    "axs.append(fig.add_subplot(gs[:, 1]))\n",
    "axs.append(fig.add_subplot(gs[2, 0]))\n",
    "axs[-1].axis('off')\n",
    "\n",
    "for k, y in enumerate([Y_pred_DL, Y_pred_RF, Y_pred_SOM]):\n",
    "    cm = hlp.metrics_matrix(Y,y)\n",
    "    axs[k].matshow(cm, cmap='Blues')\n",
    "    axs[k].set_title(models_names[k])\n",
    "    axs[k].set(xlabel='target', ylabel='predicted')\n",
    "    for (i, j), z in np.ndenumerate(cm):\n",
    "            axs[k].text(j, i, '{:0.3f}'.format(z), ha='center', va='center',color = colors[int(round(z))])"
   ]
  },
  {
   "cell_type": "markdown",
   "id": "fabulous-increase",
   "metadata": {},
   "source": [
    "TODO\n",
    "* przenieść skrypt do helpers\n",
    "* poprawić rozmieszczenie wykresów"
   ]
  },
  {
   "cell_type": "markdown",
   "id": "electric-mobile",
   "metadata": {},
   "source": [
    "# Prezentacja wyników"
   ]
  },
  {
   "cell_type": "markdown",
   "id": "durable-fruit",
   "metadata": {},
   "source": [
    "TODO"
   ]
  },
  {
   "cell_type": "markdown",
   "id": "increased-patio",
   "metadata": {},
   "source": [
    "# Wnioski"
   ]
  },
  {
   "cell_type": "markdown",
   "id": "established-fraction",
   "metadata": {},
   "source": [
    "TODO"
   ]
  }
 ],
 "metadata": {
  "kernelspec": {
   "display_name": "Python 3",
   "language": "python",
   "name": "python3"
  },
  "language_info": {
   "codemirror_mode": {
    "name": "ipython",
    "version": 3
   },
   "file_extension": ".py",
   "mimetype": "text/x-python",
   "name": "python",
   "nbconvert_exporter": "python",
   "pygments_lexer": "ipython3",
   "version": "3.8.2"
  }
 },
 "nbformat": 4,
 "nbformat_minor": 5
}
