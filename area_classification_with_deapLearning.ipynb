{
 "cells": [
  {
   "cell_type": "markdown",
   "metadata": {},
   "source": [
    "# Supervised classification with DeapLearning"
   ]
  },
  {
   "cell_type": "markdown",
   "metadata": {},
   "source": [
    "### Importin the libraries"
   ]
  },
  {
   "cell_type": "code",
   "execution_count": 1,
   "metadata": {},
   "outputs": [],
   "source": [
    "import numpy as np\n",
    "import pandas as pd\n",
    "from sklearn.preprocessing import MinMaxScaler\n",
    "from sklearn.model_selection import train_test_split\n",
    "from tensorflow.keras.models import Sequential\n",
    "from tensorflow.keras.layers import Dense\n",
    "from tensorflow.keras.layers import Dropout\n",
    "import matplotlib.pyplot as plt\n",
    "from sklearn.metrics import confusion_matrix, accuracy_score\n",
    "from helpers import undersampling\n",
    "from configparser import ConfigParser"
   ]
  },
  {
   "cell_type": "code",
   "execution_count": 2,
   "metadata": {},
   "outputs": [],
   "source": [
    "config = ConfigParser()\n",
    "config.read('config.ini')\n",
    "x_size = int(config['main']['x_size'])\n",
    "y_size = int(config['main']['y_size'])\n",
    "clases_names = list(config['classes'].values())\n",
    "nr_of_classes = len(clases_names)\n",
    "csv_data_file = config['main']['csv_data_file']"
   ]
  },
  {
   "cell_type": "markdown",
   "metadata": {},
   "source": [
    "### Preprocessing"
   ]
  },
  {
   "cell_type": "code",
   "execution_count": 3,
   "metadata": {},
   "outputs": [],
   "source": [
    "df_unchange = pd.read_csv(csv_data_file)\n",
    "#df = undersampling(df_unchange,clases_names)\n",
    "df = df_unchange\n",
    "X = df.iloc[:,1:-nr_of_classes].to_numpy()\n",
    "Y = df.iloc[:,-nr_of_classes:].to_numpy()"
   ]
  },
  {
   "cell_type": "code",
   "execution_count": 4,
   "metadata": {},
   "outputs": [],
   "source": [
    "X_train, X_test, y_train, y_test = train_test_split(X, Y, test_size=0.3)"
   ]
  },
  {
   "cell_type": "markdown",
   "metadata": {},
   "source": [
    "Feature scaling\n",
    "$$x = \\frac{\\overline{x} - x}{\\sigma_{x}}$$"
   ]
  },
  {
   "cell_type": "code",
   "execution_count": 5,
   "metadata": {},
   "outputs": [],
   "source": [
    "from sklearn.preprocessing import StandardScaler\n",
    "sc = StandardScaler()\n",
    "X_train = sc.fit_transform(X_train)\n",
    "X_test = sc.transform(X_test)"
   ]
  },
  {
   "cell_type": "markdown",
   "metadata": {},
   "source": [
    "TO DO Cross Validation"
   ]
  },
  {
   "cell_type": "markdown",
   "metadata": {},
   "source": [
    "### Model definition"
   ]
  },
  {
   "cell_type": "code",
   "execution_count": 6,
   "metadata": {},
   "outputs": [],
   "source": [
    "model = Sequential([\n",
    "    Dense(128, input_dim=X_train.shape[1], activation='relu'),\n",
    "    Dropout(0.5),\n",
    "    Dense(64, activation='relu'),\n",
    "    Dense(4, activation='softmax')\n",
    "])"
   ]
  },
  {
   "cell_type": "code",
   "execution_count": 7,
   "metadata": {},
   "outputs": [],
   "source": [
    "model.compile(loss='binary_crossentropy', optimizer='adam', metrics=['accuracy'])"
   ]
  },
  {
   "cell_type": "markdown",
   "metadata": {},
   "source": [
    "### Training"
   ]
  },
  {
   "cell_type": "code",
   "execution_count": 8,
   "metadata": {},
   "outputs": [
    {
     "name": "stdout",
     "output_type": "stream",
     "text": [
      "Epoch 1/100\n",
      "2345/2345 [==============================] - 4s 2ms/step - loss: 0.2555 - accuracy: 0.7795\n",
      "Epoch 2/100\n",
      "2345/2345 [==============================] - 4s 2ms/step - loss: 0.2311 - accuracy: 0.8037\n",
      "Epoch 3/100\n",
      "2345/2345 [==============================] - 4s 2ms/step - loss: 0.2250 - accuracy: 0.8088\n",
      "Epoch 4/100\n",
      "2345/2345 [==============================] - 4s 2ms/step - loss: 0.2218 - accuracy: 0.8117\n",
      "Epoch 5/100\n",
      "2345/2345 [==============================] - 4s 2ms/step - loss: 0.2197 - accuracy: 0.8135\n",
      "Epoch 6/100\n",
      "2345/2345 [==============================] - 4s 2ms/step - loss: 0.2184 - accuracy: 0.8146\n",
      "Epoch 7/100\n",
      "2345/2345 [==============================] - 4s 2ms/step - loss: 0.2172 - accuracy: 0.8158\n",
      "Epoch 8/100\n",
      "2345/2345 [==============================] - 4s 2ms/step - loss: 0.2165 - accuracy: 0.8162\n",
      "Epoch 9/100\n",
      "2345/2345 [==============================] - 4s 2ms/step - loss: 0.2159 - accuracy: 0.8169\n",
      "Epoch 10/100\n",
      "2345/2345 [==============================] - 4s 2ms/step - loss: 0.2154 - accuracy: 0.8173\n",
      "Epoch 11/100\n",
      "2345/2345 [==============================] - 4s 2ms/step - loss: 0.2149 - accuracy: 0.8177\n",
      "Epoch 12/100\n",
      "2345/2345 [==============================] - 4s 2ms/step - loss: 0.2145 - accuracy: 0.8179\n",
      "Epoch 13/100\n",
      "2345/2345 [==============================] - 4s 2ms/step - loss: 0.2141 - accuracy: 0.8186\n",
      "Epoch 14/100\n",
      "2345/2345 [==============================] - 4s 2ms/step - loss: 0.2140 - accuracy: 0.8185\n",
      "Epoch 15/100\n",
      "2345/2345 [==============================] - 4s 2ms/step - loss: 0.2137 - accuracy: 0.8189\n",
      "Epoch 16/100\n",
      "2345/2345 [==============================] - 4s 2ms/step - loss: 0.2133 - accuracy: 0.8192\n",
      "Epoch 17/100\n",
      "2345/2345 [==============================] - 4s 2ms/step - loss: 0.2132 - accuracy: 0.8195\n",
      "Epoch 18/100\n",
      "2345/2345 [==============================] - 4s 2ms/step - loss: 0.2128 - accuracy: 0.8195\n",
      "Epoch 19/100\n",
      "2345/2345 [==============================] - 4s 2ms/step - loss: 0.2126 - accuracy: 0.8197\n",
      "Epoch 20/100\n",
      "2345/2345 [==============================] - 4s 2ms/step - loss: 0.2124 - accuracy: 0.8201\n",
      "Epoch 21/100\n",
      "2345/2345 [==============================] - 4s 2ms/step - loss: 0.2123 - accuracy: 0.8201\n",
      "Epoch 22/100\n",
      "2345/2345 [==============================] - 4s 2ms/step - loss: 0.2122 - accuracy: 0.8202\n",
      "Epoch 23/100\n",
      "2345/2345 [==============================] - 4s 2ms/step - loss: 0.2120 - accuracy: 0.8202\n",
      "Epoch 24/100\n",
      "2345/2345 [==============================] - 4s 2ms/step - loss: 0.2118 - accuracy: 0.8205\n",
      "Epoch 25/100\n",
      "2345/2345 [==============================] - 4s 2ms/step - loss: 0.2117 - accuracy: 0.8206\n",
      "Epoch 26/100\n",
      "2345/2345 [==============================] - 4s 2ms/step - loss: 0.2118 - accuracy: 0.8204\n",
      "Epoch 27/100\n",
      "2345/2345 [==============================] - 4s 2ms/step - loss: 0.2114 - accuracy: 0.8207\n",
      "Epoch 28/100\n",
      "2345/2345 [==============================] - 4s 2ms/step - loss: 0.2113 - accuracy: 0.8211\n",
      "Epoch 29/100\n",
      "2345/2345 [==============================] - 4s 2ms/step - loss: 0.2113 - accuracy: 0.8209\n",
      "Epoch 30/100\n",
      "2345/2345 [==============================] - 4s 2ms/step - loss: 0.2111 - accuracy: 0.8211\n",
      "Epoch 31/100\n",
      "2345/2345 [==============================] - 4s 2ms/step - loss: 0.2110 - accuracy: 0.8212\n",
      "Epoch 32/100\n",
      "2345/2345 [==============================] - 4s 2ms/step - loss: 0.2109 - accuracy: 0.8212\n",
      "Epoch 33/100\n",
      "2345/2345 [==============================] - 4s 2ms/step - loss: 0.2108 - accuracy: 0.8215\n",
      "Epoch 34/100\n",
      "2345/2345 [==============================] - 4s 2ms/step - loss: 0.2108 - accuracy: 0.8213\n",
      "Epoch 35/100\n",
      "2345/2345 [==============================] - 4s 2ms/step - loss: 0.2107 - accuracy: 0.8215\n",
      "Epoch 36/100\n",
      "2345/2345 [==============================] - 4s 2ms/step - loss: 0.2106 - accuracy: 0.8216\n",
      "Epoch 37/100\n",
      "2345/2345 [==============================] - 4s 2ms/step - loss: 0.2105 - accuracy: 0.8217\n",
      "Epoch 38/100\n",
      "2345/2345 [==============================] - 4s 2ms/step - loss: 0.2104 - accuracy: 0.8218\n",
      "Epoch 39/100\n",
      "2345/2345 [==============================] - 4s 2ms/step - loss: 0.2102 - accuracy: 0.8218\n",
      "Epoch 40/100\n",
      "2345/2345 [==============================] - 4s 2ms/step - loss: 0.2103 - accuracy: 0.8220\n",
      "Epoch 41/100\n",
      "2345/2345 [==============================] - 4s 2ms/step - loss: 0.2102 - accuracy: 0.8220\n",
      "Epoch 42/100\n",
      "2345/2345 [==============================] - 4s 2ms/step - loss: 0.2100 - accuracy: 0.8222\n",
      "Epoch 43/100\n",
      "2345/2345 [==============================] - 4s 2ms/step - loss: 0.2100 - accuracy: 0.8221\n",
      "Epoch 44/100\n",
      "2345/2345 [==============================] - 4s 2ms/step - loss: 0.2101 - accuracy: 0.8219\n",
      "Epoch 45/100\n",
      "2345/2345 [==============================] - 4s 2ms/step - loss: 0.2099 - accuracy: 0.8222\n",
      "Epoch 46/100\n",
      "2345/2345 [==============================] - 4s 2ms/step - loss: 0.2098 - accuracy: 0.8223\n",
      "Epoch 47/100\n",
      "2345/2345 [==============================] - 4s 2ms/step - loss: 0.2099 - accuracy: 0.8222\n",
      "Epoch 48/100\n",
      "2345/2345 [==============================] - 4s 2ms/step - loss: 0.2098 - accuracy: 0.8222\n",
      "Epoch 49/100\n",
      "2345/2345 [==============================] - 4s 2ms/step - loss: 0.2097 - accuracy: 0.8224\n",
      "Epoch 50/100\n",
      "2345/2345 [==============================] - 4s 2ms/step - loss: 0.2096 - accuracy: 0.8225\n",
      "Epoch 51/100\n",
      "2345/2345 [==============================] - 4s 2ms/step - loss: 0.2095 - accuracy: 0.8227\n",
      "Epoch 52/100\n",
      "2345/2345 [==============================] - 4s 2ms/step - loss: 0.2095 - accuracy: 0.8224\n",
      "Epoch 53/100\n",
      "2345/2345 [==============================] - 4s 2ms/step - loss: 0.2095 - accuracy: 0.8227\n",
      "Epoch 54/100\n",
      "2345/2345 [==============================] - 4s 2ms/step - loss: 0.2093 - accuracy: 0.8226\n",
      "Epoch 55/100\n",
      "2345/2345 [==============================] - 4s 2ms/step - loss: 0.2095 - accuracy: 0.8227\n",
      "Epoch 56/100\n",
      "2345/2345 [==============================] - 4s 2ms/step - loss: 0.2094 - accuracy: 0.8225\n",
      "Epoch 57/100\n",
      "2345/2345 [==============================] - 4s 2ms/step - loss: 0.2093 - accuracy: 0.8226\n",
      "Epoch 58/100\n",
      "2345/2345 [==============================] - 4s 2ms/step - loss: 0.2094 - accuracy: 0.8227\n",
      "Epoch 59/100\n",
      "2345/2345 [==============================] - 4s 2ms/step - loss: 0.2093 - accuracy: 0.8228\n",
      "Epoch 60/100\n",
      "2345/2345 [==============================] - 4s 2ms/step - loss: 0.2091 - accuracy: 0.8228\n",
      "Epoch 61/100\n",
      "2345/2345 [==============================] - 4s 2ms/step - loss: 0.2092 - accuracy: 0.8228\n",
      "Epoch 62/100\n",
      "2345/2345 [==============================] - 4s 2ms/step - loss: 0.2090 - accuracy: 0.8230\n",
      "Epoch 63/100\n",
      "2345/2345 [==============================] - 4s 2ms/step - loss: 0.2090 - accuracy: 0.8232\n",
      "Epoch 64/100\n",
      "2345/2345 [==============================] - 5s 2ms/step - loss: 0.2090 - accuracy: 0.8228\n",
      "Epoch 65/100\n",
      "2345/2345 [==============================] - 4s 2ms/step - loss: 0.2090 - accuracy: 0.8229\n",
      "Epoch 66/100\n",
      "2345/2345 [==============================] - 4s 2ms/step - loss: 0.2089 - accuracy: 0.8231\n",
      "Epoch 67/100\n",
      "2345/2345 [==============================] - 4s 2ms/step - loss: 0.2089 - accuracy: 0.8230\n",
      "Epoch 68/100\n",
      "2345/2345 [==============================] - 4s 2ms/step - loss: 0.2089 - accuracy: 0.8232\n",
      "Epoch 69/100\n",
      "2345/2345 [==============================] - 4s 2ms/step - loss: 0.2089 - accuracy: 0.8230\n",
      "Epoch 70/100\n",
      "2345/2345 [==============================] - 4s 2ms/step - loss: 0.2088 - accuracy: 0.8232\n",
      "Epoch 71/100\n",
      "2345/2345 [==============================] - 4s 2ms/step - loss: 0.2087 - accuracy: 0.8233\n",
      "Epoch 72/100\n",
      "2345/2345 [==============================] - 4s 2ms/step - loss: 0.2087 - accuracy: 0.8232\n",
      "Epoch 73/100\n",
      "2345/2345 [==============================] - 4s 2ms/step - loss: 0.2087 - accuracy: 0.8231\n",
      "Epoch 74/100\n",
      "2345/2345 [==============================] - 4s 2ms/step - loss: 0.2087 - accuracy: 0.8234\n",
      "Epoch 75/100\n",
      "2345/2345 [==============================] - 4s 2ms/step - loss: 0.2086 - accuracy: 0.8235\n",
      "Epoch 76/100\n",
      "2345/2345 [==============================] - 4s 2ms/step - loss: 0.2085 - accuracy: 0.8233\n",
      "Epoch 77/100\n",
      "2345/2345 [==============================] - 4s 2ms/step - loss: 0.2085 - accuracy: 0.8235\n",
      "Epoch 78/100\n",
      "2345/2345 [==============================] - 4s 2ms/step - loss: 0.2085 - accuracy: 0.8235\n",
      "Epoch 79/100\n",
      "2345/2345 [==============================] - 4s 2ms/step - loss: 0.2084 - accuracy: 0.8233\n",
      "Epoch 80/100\n",
      "2345/2345 [==============================] - 4s 2ms/step - loss: 0.2084 - accuracy: 0.8236\n",
      "Epoch 81/100\n",
      "2345/2345 [==============================] - 4s 2ms/step - loss: 0.2083 - accuracy: 0.8235\n",
      "Epoch 82/100\n",
      "2345/2345 [==============================] - 4s 2ms/step - loss: 0.2084 - accuracy: 0.8233\n",
      "Epoch 83/100\n",
      "2345/2345 [==============================] - 4s 2ms/step - loss: 0.2083 - accuracy: 0.8234\n",
      "Epoch 84/100\n",
      "2345/2345 [==============================] - 4s 2ms/step - loss: 0.2083 - accuracy: 0.8235\n",
      "Epoch 85/100\n",
      "2345/2345 [==============================] - 4s 2ms/step - loss: 0.2083 - accuracy: 0.8235\n",
      "Epoch 86/100\n",
      "2345/2345 [==============================] - 4s 2ms/step - loss: 0.2083 - accuracy: 0.8235\n",
      "Epoch 87/100\n",
      "2345/2345 [==============================] - 4s 2ms/step - loss: 0.2083 - accuracy: 0.8234\n",
      "Epoch 88/100\n",
      "2345/2345 [==============================] - 4s 2ms/step - loss: 0.2083 - accuracy: 0.8235\n",
      "Epoch 89/100\n",
      "2345/2345 [==============================] - 4s 2ms/step - loss: 0.2081 - accuracy: 0.8237\n",
      "Epoch 90/100\n",
      "2345/2345 [==============================] - 4s 2ms/step - loss: 0.2082 - accuracy: 0.8238\n",
      "Epoch 91/100\n",
      "2345/2345 [==============================] - 4s 2ms/step - loss: 0.2081 - accuracy: 0.8237\n",
      "Epoch 92/100\n",
      "2345/2345 [==============================] - 4s 2ms/step - loss: 0.2082 - accuracy: 0.8236\n",
      "Epoch 93/100\n",
      "2345/2345 [==============================] - 4s 2ms/step - loss: 0.2081 - accuracy: 0.8237\n",
      "Epoch 94/100\n",
      "2345/2345 [==============================] - 4s 2ms/step - loss: 0.2081 - accuracy: 0.8238\n",
      "Epoch 95/100\n",
      "2345/2345 [==============================] - 4s 2ms/step - loss: 0.2081 - accuracy: 0.8237\n",
      "Epoch 96/100\n",
      "2345/2345 [==============================] - 4s 2ms/step - loss: 0.2080 - accuracy: 0.8238\n",
      "Epoch 97/100\n",
      "2345/2345 [==============================] - 4s 2ms/step - loss: 0.2080 - accuracy: 0.8239\n",
      "Epoch 98/100\n",
      "2345/2345 [==============================] - 4s 2ms/step - loss: 0.2079 - accuracy: 0.8240\n",
      "Epoch 99/100\n",
      "2345/2345 [==============================] - 4s 2ms/step - loss: 0.2078 - accuracy: 0.8239\n",
      "Epoch 100/100\n",
      "2345/2345 [==============================] - 4s 2ms/step - loss: 0.2079 - accuracy: 0.8237\n"
     ]
    },
    {
     "data": {
      "text/plain": [
       "<tensorflow.python.keras.callbacks.History at 0x7f1dbba6e970>"
      ]
     },
     "execution_count": 8,
     "metadata": {},
     "output_type": "execute_result"
    }
   ],
   "source": [
    "model.fit(X_train, y_train, epochs=100, batch_size=1000)"
   ]
  },
  {
   "cell_type": "markdown",
   "metadata": {},
   "source": [
    "### Validation"
   ]
  },
  {
   "cell_type": "code",
   "execution_count": 9,
   "metadata": {},
   "outputs": [
    {
     "name": "stdout",
     "output_type": "stream",
     "text": [
      "31396/31396 [==============================] - 37s 1ms/step - loss: 0.2135 - accuracy: 0.8178\n",
      "acc: 0.8177600502967834\n"
     ]
    }
   ],
   "source": [
    "_, accuracy = model.evaluate(X_test, y_test)\n",
    "print(f'acc: {accuracy}')"
   ]
  },
  {
   "cell_type": "markdown",
   "metadata": {},
   "source": [
    "### Predictions"
   ]
  },
  {
   "cell_type": "code",
   "execution_count": null,
   "metadata": {},
   "outputs": [],
   "source": [
    "y_pred = model.predict(X_test)"
   ]
  },
  {
   "cell_type": "code",
   "execution_count": null,
   "metadata": {},
   "outputs": [],
   "source": [
    "cm = confusion_matrix(y_test.argmax(axis=1), y_pred.argmax(axis=1))\n",
    "fig, ax = plt.subplots()\n",
    "cm = cm/(0.25*X_test.shape[0])\n",
    "ax.matshow(cm, cmap='seismic')\n",
    "for (i, j), z in np.ndenumerate(cm):\n",
    "    ax.text(j, i, '{:0.2f}'.format(z), ha='center', va='center',color = 'white')\n",
    "plt.show()"
   ]
  },
  {
   "cell_type": "markdown",
   "metadata": {},
   "source": [
    "### Results Presentation"
   ]
  },
  {
   "cell_type": "code",
   "execution_count": null,
   "metadata": {},
   "outputs": [],
   "source": [
    "X_present = df_unchange.iloc[:,1:14].to_numpy()\n",
    "X_present = sc.fit_transform(X_present)\n",
    "Y_present = model.predict(X_present)\n",
    "Y_present = np.rint(Y_present)\n",
    "Y_present = Y_present.reshape((1830,1830,4))"
   ]
  },
  {
   "cell_type": "code",
   "execution_count": null,
   "metadata": {},
   "outputs": [],
   "source": [
    "Y_target = df_unchange.iloc[:,14:].to_numpy()\n",
    "Y_target = Y_target.reshape((1830,1830,4))"
   ]
  },
  {
   "cell_type": "code",
   "execution_count": null,
   "metadata": {},
   "outputs": [],
   "source": [
    "fig, axs = plt.subplots(figsize=(12,24), ncols = 2, nrows=4)\n",
    "axs[0,0].imshow(Y_present[...,0]*255,cmap='gray', vmin=0, vmax=255)\n",
    "axs[0,1].imshow(Y_target[...,0]*255,cmap='gray', vmin=0, vmax=255)\n",
    "axs[1,0].imshow(Y_present[...,1]*255,cmap='gray', vmin=0, vmax=255)\n",
    "axs[1,1].imshow(Y_target[...,1]*255,cmap='gray', vmin=0, vmax=255)\n",
    "axs[2,0].imshow(Y_present[...,2]*255,cmap='gray', vmin=0, vmax=255)\n",
    "axs[2,1].imshow(Y_target[...,2]*255,cmap='gray', vmin=0, vmax=255)\n",
    "axs[3,0].imshow(Y_present[...,3]*255,cmap='gray', vmin=0, vmax=255)\n",
    "axs[3,1].imshow(Y_target[...,3]*255,cmap='gray', vmin=0, vmax=255)"
   ]
  }
 ],
 "metadata": {
  "kernelspec": {
   "display_name": "Python 3",
   "language": "python",
   "name": "python3"
  },
  "language_info": {
   "codemirror_mode": {
    "name": "ipython",
    "version": 3
   },
   "file_extension": ".py",
   "mimetype": "text/x-python",
   "name": "python",
   "nbconvert_exporter": "python",
   "pygments_lexer": "ipython3",
   "version": "3.8.2"
  }
 },
 "nbformat": 4,
 "nbformat_minor": 4
}
