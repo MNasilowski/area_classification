{
 "cells": [
  {
   "cell_type": "markdown",
   "id": "southeast-albania",
   "metadata": {},
   "source": [
    "# Supervised classification with Confollutionaln Network"
   ]
  },
  {
   "cell_type": "code",
   "execution_count": 1,
   "id": "right-backing",
   "metadata": {},
   "outputs": [],
   "source": [
    "import numpy as np\n",
    "import pandas as pd\n",
    "from sklearn.preprocessing import MinMaxScaler\n",
    "from sklearn.model_selection import train_test_split\n",
    "from tensorflow.keras.models import Sequential\n",
    "from tensorflow.keras.layers import Dense\n",
    "from tensorflow.keras.layers import Dropout\n",
    "from tensorflow.keras.layers import Conv2D\n",
    "from tensorflow.keras.layers import Flatten\n",
    "import matplotlib.pyplot as plt\n",
    "from sklearn.metrics import confusion_matrix, accuracy_score\n",
    "from helpers import undersampling\n",
    "from configparser import ConfigParser"
   ]
  },
  {
   "cell_type": "code",
   "execution_count": 2,
   "id": "committed-catalyst",
   "metadata": {},
   "outputs": [],
   "source": [
    "config = ConfigParser()\n",
    "config.read('config.ini')\n",
    "x_size = int(config['main']['x_size'])\n",
    "y_size = int(config['main']['y_size'])\n",
    "clases_names = list(config['classes'].values())\n",
    "nr_of_classes = len(clases_names)\n",
    "csv_data_file = config['main']['csv_data_file']"
   ]
  },
  {
   "cell_type": "code",
   "execution_count": 3,
   "id": "quarterly-dallas",
   "metadata": {},
   "outputs": [],
   "source": [
    "df = pd.read_csv(csv_data_file)\n",
    "X = df.iloc[:,1:-nr_of_classes].to_numpy()\n",
    "Y = df.iloc[:,-nr_of_classes:].to_numpy()"
   ]
  },
  {
   "cell_type": "code",
   "execution_count": 4,
   "id": "dressed-rescue",
   "metadata": {},
   "outputs": [],
   "source": [
    "X = X.reshape((x_size, y_size, -1))\n",
    "Y = Y.reshape((x_size,y_size, -1))"
   ]
  },
  {
   "cell_type": "code",
   "execution_count": null,
   "id": "generous-crest",
   "metadata": {},
   "outputs": [],
   "source": [
    "model = Sequential([\n",
    "    Conv2D(64, kernel_size=3, activation='relu', input_shape=X.shape),\n",
    "    Flatten\n",
    "    Dense(128, activation='relu'),\n",
    "    Dense(4, activation='softmax')\n",
    "])"
   ]
  }
 ],
 "metadata": {
  "kernelspec": {
   "display_name": "Python 3",
   "language": "python",
   "name": "python3"
  },
  "language_info": {
   "codemirror_mode": {
    "name": "ipython",
    "version": 3
   },
   "file_extension": ".py",
   "mimetype": "text/x-python",
   "name": "python",
   "nbconvert_exporter": "python",
   "pygments_lexer": "ipython3",
   "version": "3.8.2"
  }
 },
 "nbformat": 4,
 "nbformat_minor": 5
}
