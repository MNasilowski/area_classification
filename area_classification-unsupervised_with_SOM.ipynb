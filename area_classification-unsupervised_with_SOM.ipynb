{
 "cells": [
  {
   "cell_type": "markdown",
   "metadata": {},
   "source": [
    "# Unsupervised classification with SOM"
   ]
  },
  {
   "cell_type": "code",
   "execution_count": null,
   "metadata": {},
   "outputs": [],
   "source": [
    "import numpy as np\n",
    "import pandas as pd\n",
    "from sklearn.preprocessing import MinMaxScaler\n",
    "from sklearn.ensemble import ExtraTreesClassifier\n",
    "from sklearn.model_selection import train_test_split\n",
    "from sklearn.metrics import precision_score\n",
    "from sklearn.metrics import accuracy_score\n",
    "from sklearn.ensemble import RandomForestClassifier\n",
    "from helpers import undersampling\n",
    "from helpers import show_target_pred_dif\n",
    "import matplotlib.pyplot as plt\n",
    "from sklearn.metrics import confusion_matrix, accuracy_score\n",
    "from configparser import ConfigParser"
   ]
  },
  {
   "cell_type": "markdown",
   "metadata": {},
   "source": [
    "Wczytyujemy dane z pliku config.ini"
   ]
  },
  {
   "cell_type": "code",
   "execution_count": null,
   "metadata": {},
   "outputs": [],
   "source": [
    "config = ConfigParser()\n",
    "config.read('config.ini')\n",
    "x_size = int(config['main']['x_size'])\n",
    "y_size = int(config['main']['y_size'])\n",
    "clases_names = list(config['classes'].values())\n",
    "nr_of_classes = len(clases_names)\n",
    "csv_data_file = config['main']['csv_data_file']"
   ]
  },
  {
   "cell_type": "markdown",
   "metadata": {},
   "source": [
    "### Preprocessing"
   ]
  },
  {
   "cell_type": "code",
   "execution_count": null,
   "metadata": {},
   "outputs": [],
   "source": [
    "df = pd.read_csv(csv_data_file)\n",
    "X = df.iloc[:,1:-nr_of_classes].to_numpy()\n",
    "Y = df.iloc[:,-nr_of_classes:].to_numpy()"
   ]
  },
  {
   "cell_type": "markdown",
   "metadata": {},
   "source": [
    "Feature scaling\n",
    "$$x = \\frac{\\overline{x} - x}{\\sigma_{x}}$$"
   ]
  },
  {
   "cell_type": "code",
   "execution_count": null,
   "metadata": {},
   "outputs": [],
   "source": [
    "from sklearn.preprocessing import StandardScaler\n",
    "sc = StandardScaler()\n",
    "X = sc.fit_transform(X)"
   ]
  },
  {
   "cell_type": "code",
   "execution_count": null,
   "metadata": {},
   "outputs": [],
   "source": [
    "from helpers import IoU"
   ]
  },
  {
   "cell_type": "code",
   "execution_count": null,
   "metadata": {},
   "outputs": [],
   "source": [
    "from helpers import metrics_matrix"
   ]
  },
  {
   "cell_type": "markdown",
   "metadata": {},
   "source": [
    "### Training"
   ]
  },
  {
   "cell_type": "code",
   "execution_count": null,
   "metadata": {},
   "outputs": [],
   "source": [
    "from minisom import MiniSom\n",
    "x_som, y_som = 4,4\n",
    "som = MiniSom(x=x_som, y=y_som, input_len=X.shape[1], sigma=1.0, learning_rate=0.5)\n",
    "som.random_weights_init(X)\n",
    "som.train_random(X, num_iteration=100000, verbose=False)"
   ]
  },
  {
   "cell_type": "code",
   "execution_count": null,
   "metadata": {},
   "outputs": [],
   "source": [
    "#ax.colorbar()\n",
    "fig, ax = plt.subplots()\n",
    "ax.set_title('SOM')\n",
    "plt.imshow(som.distance_map())\n",
    "for (i, j), z in np.ndenumerate(som.distance_map()):\n",
    "    if z > 0.10:\n",
    "        ax.text(j, i, '{:0.2f}'.format(som.distance_map()[i,j]), ha='center', va='center',color = 'white')"
   ]
  },
  {
   "cell_type": "markdown",
   "metadata": {},
   "source": [
    "### Predictions"
   ]
  },
  {
   "cell_type": "code",
   "execution_count": null,
   "metadata": {},
   "outputs": [],
   "source": [
    "from sklearn.preprocessing import OneHotEncoder\n",
    "enc = OneHotEncoder()\n",
    "y_pred = [som.winner(x) for x in X]\n",
    "y_pred = np.array([i[0]*100 + i[1] for i in y_pred ])\n",
    "y_pred = enc.fit_transform(y_pred.reshape(-1, 1)).toarray()"
   ]
  },
  {
   "cell_type": "markdown",
   "metadata": {},
   "source": [
    "### Evaluation"
   ]
  },
  {
   "cell_type": "code",
   "execution_count": null,
   "metadata": {},
   "outputs": [],
   "source": [
    "cm = confusion_matrix(Y.argmax(axis=1), y_pred.argmax(axis=1))"
   ]
  },
  {
   "cell_type": "code",
   "execution_count": null,
   "metadata": {},
   "outputs": [],
   "source": [
    "from mpl_toolkits.axes_grid1 import make_axes_locatable\n",
    "fig, axs = plt.subplots(figsize=(8,6), ncols = 2, nrows=2)\n",
    "plt.subplots_adjust(top = 0.99, bottom=0.01, hspace=0.2, wspace=0.4)\n",
    "vmax = np.max(cm)/(0.25*len(y_pred))\n",
    "for i, ax in enumerate(axs.flatten()):\n",
    "    data = cm[i,:].reshape((x_som,y_som))/(0.25*len(y_pred))\n",
    "    subplot = ax.matshow(data,vmin=0, vmax=vmax, cmap='BuGn')\n",
    "    divider = make_axes_locatable(ax)\n",
    "    cax = divider.append_axes(\"right\", size=\"5%\", pad=0.05)\n",
    "    ax.set_title(df.columns[-4+i])\n",
    "    for (i, j), z in np.ndenumerate(data):\n",
    "        if(z>0.01):\n",
    "            ax.text(j, i, '{:0.2f}'.format(z), ha='center', va='center',color = 'white')\n",
    "    fig.colorbar(subplot, cax=cax)"
   ]
  },
  {
   "cell_type": "code",
   "execution_count": null,
   "metadata": {},
   "outputs": [],
   "source": [
    "clusstered = np.zeros((x_som,y_som,3))\n",
    "metrix_IoU = metrics_matrix(Y, y_pred, IoU)\n",
    "clusstered[...,2]=metrix_IoU[:,0].reshape((x_som,y_som))\n",
    "clusstered[...,1]=metrix_IoU[:,1].reshape((x_som,y_som))\n",
    "clusstered[...,0]=metrix_IoU[:,2].reshape((x_som,y_som))\n",
    "fig, ax = plt.subplots()\n",
    "ax.set_title('Intersection over union')\n",
    "plt.imshow(clusstered)\n",
    "for (i, j, k), z in np.ndenumerate(clusstered):\n",
    "    if z > 0.10:\n",
    "        ax.text(j, i, '{:0.2f}'.format(max(clusstered[i,j,:])), ha='center', va='center',color = 'white')\n"
   ]
  },
  {
   "cell_type": "code",
   "execution_count": null,
   "metadata": {},
   "outputs": [],
   "source": [
    "best_3 = [metrix_IoU[:,i].argsort()[-3:][::-1] for i in range(3)]\n",
    "enc = OneHotEncoder()\n",
    "y_pred = [som.winner(x) for x in X]\n",
    "y_pred = np.array([i[0]*100 + i[1] for i in y_pred ])\n",
    "y_pred = enc.fit_transform(y_pred.reshape(-1, 1)).toarray()"
   ]
  },
  {
   "cell_type": "code",
   "execution_count": null,
   "metadata": {},
   "outputs": [],
   "source": [
    "Y_present = y_pred.reshape((x_size,y_size,y_pred.shape[1]))"
   ]
  },
  {
   "cell_type": "code",
   "execution_count": null,
   "metadata": {},
   "outputs": [],
   "source": [
    "best_1 = [best_3[i][0] for i in range(3)]"
   ]
  },
  {
   "cell_type": "code",
   "execution_count": null,
   "metadata": {},
   "outputs": [],
   "source": [
    "y_target = Y[...,:-1].reshape((x_size,y_size,3))\n",
    "y_pred = Y_present[...,best_1]"
   ]
  },
  {
   "cell_type": "code",
   "execution_count": null,
   "metadata": {},
   "outputs": [],
   "source": [
    "show_target_pred_dif(y_target,y_pred)"
   ]
  }
 ],
 "metadata": {
  "kernelspec": {
   "display_name": "Python 3",
   "language": "python",
   "name": "python3"
  },
  "language_info": {
   "codemirror_mode": {
    "name": "ipython",
    "version": 3
   },
   "file_extension": ".py",
   "mimetype": "text/x-python",
   "name": "python",
   "nbconvert_exporter": "python",
   "pygments_lexer": "ipython3",
   "version": "3.8.2"
  }
 },
 "nbformat": 4,
 "nbformat_minor": 4
}
