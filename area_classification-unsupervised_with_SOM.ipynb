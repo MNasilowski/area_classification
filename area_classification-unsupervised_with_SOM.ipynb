{
 "cells": [
  {
   "cell_type": "markdown",
   "metadata": {},
   "source": [
    "### Importin the libraries"
   ]
  },
  {
   "cell_type": "code",
   "execution_count": 1,
   "metadata": {},
   "outputs": [],
   "source": [
    "import numpy as np\n",
    "import pandas as pd\n",
    "from sklearn.preprocessing import MinMaxScaler\n",
    "from sklearn.ensemble import ExtraTreesClassifier\n",
    "from sklearn.model_selection import train_test_split\n",
    "from sklearn.metrics import precision_score\n",
    "from sklearn.metrics import accuracy_score\n",
    "from sklearn.ensemble import RandomForestClassifier\n",
    "from helpers import undersampling\n",
    "import matplotlib.pyplot as plt\n",
    "from sklearn.metrics import confusion_matrix, accuracy_score"
   ]
  },
  {
   "cell_type": "markdown",
   "metadata": {},
   "source": [
    "### Preprocessing"
   ]
  },
  {
   "cell_type": "code",
   "execution_count": 3,
   "metadata": {},
   "outputs": [],
   "source": [
    "df = pd.read_csv('data.csv')\n",
    "df = undersampling(df,0.1)\n",
    "X = df.iloc[:,1:14].to_numpy()\n",
    "Y = df.iloc[:,-4:].to_numpy()"
   ]
  },
  {
   "cell_type": "markdown",
   "metadata": {},
   "source": [
    "Train/test split"
   ]
  },
  {
   "cell_type": "code",
   "execution_count": 4,
   "metadata": {},
   "outputs": [],
   "source": [
    "X_train, X_test, y_train, y_test = train_test_split(X, Y, test_size=0.3)"
   ]
  },
  {
   "cell_type": "markdown",
   "metadata": {},
   "source": [
    "Feature scaling\n",
    "$$x = \\frac{\\overline{x} - x}{\\sigma_{x}}$$"
   ]
  },
  {
   "cell_type": "code",
   "execution_count": 5,
   "metadata": {},
   "outputs": [],
   "source": [
    "from sklearn.preprocessing import StandardScaler\n",
    "sc = StandardScaler()\n",
    "X_train = sc.fit_transform(X_train)\n",
    "X_test = sc.transform(X_test)"
   ]
  },
  {
   "cell_type": "markdown",
   "metadata": {},
   "source": [
    " Dimensionlity reduction"
   ]
  },
  {
   "cell_type": "code",
   "execution_count": 6,
   "metadata": {},
   "outputs": [],
   "source": [
    "# Applying PCA\n",
    "from sklearn.decomposition import PCA\n",
    "pca = PCA(n_components = 10)\n",
    "X_train = pca.fit_transform(X_train)\n",
    "X_test = pca.transform(X_test)"
   ]
  },
  {
   "cell_type": "markdown",
   "metadata": {},
   "source": [
    "TO DO Cross Validation"
   ]
  },
  {
   "cell_type": "markdown",
   "metadata": {},
   "source": [
    "### Validation"
   ]
  },
  {
   "cell_type": "code",
   "execution_count": 9,
   "metadata": {},
   "outputs": [
    {
     "name": "stdout",
     "output_type": "stream",
     "text": [
      "acc:  0.7994569433669512\n"
     ]
    },
    {
     "data": {
      "image/png": "[encoded data removed]",
      "text/plain": [
       "<Figure size 432x288 with 1 Axes>"
      ]
     },
     "metadata": {
      "needs_background": "light"
     },
     "output_type": "display_data"
    }
   ],
   "source": [
    "y_pred = clf.predict(X_test)\n",
    "cm = confusion_matrix(y_test.argmax(axis=1), y_pred.argmax(axis=1))\n",
    "print(\"acc: \",accuracy_score(y_test, y_pred))\n",
    "fig, ax = plt.subplots()\n",
    "cm = cm/(0.25*len(X_test))\n",
    "ax.matshow(cm, cmap='seismic')\n",
    "for (i, j), z in np.ndenumerate(cm):\n",
    "    ax.text(j, i, '{:0.2f}'.format(z), ha='center', va='center',color = 'white')\n",
    "plt.show()"
   ]
  },
  {
   "cell_type": "markdown",
   "metadata": {},
   "source": [
    "# Unsupervised classification with SOM"
   ]
  },
  {
   "cell_type": "code",
   "execution_count": 10,
   "metadata": {},
   "outputs": [],
   "source": [
    "def IoU(target, predicted):\n",
    "    \"\"\"return intersection over union\"\"\"\n",
    "    iou = np.sum(np.logical_and(target,predicted))\n",
    "    iou = iou / (np.sum(np.logical_or(target,predicted)) + 1e-10)\n",
    "    return iou"
   ]
  },
  {
   "cell_type": "code",
   "execution_count": 11,
   "metadata": {},
   "outputs": [],
   "source": [
    "def metrics_matrix(Y_target, Y_pred, metric=IoU):\n",
    "    \"\"\"Compare target classes with predicted classes. \n",
    "    Return matrix with metrics\n",
    "    \"\"\"\n",
    "    matrix = np.zeros((Y_pred.shape[1],Y_target.shape[1]))\n",
    "    for i in range(matrix.shape[0]):\n",
    "        for j in range(matrix.shape[1]):    \n",
    "            matrix[i][j] = IoU(Y_target[:,j],Y_pred[:,i])\n",
    "    return matrix"
   ]
  },
  {
   "cell_type": "markdown",
   "metadata": {},
   "source": [
    "### Preprocessing"
   ]
  },
  {
   "cell_type": "code",
   "execution_count": 12,
   "metadata": {},
   "outputs": [],
   "source": [
    "X = np.concatenate((X_train,X_test))\n",
    "y = np.concatenate((y_train,y_test))"
   ]
  },
  {
   "cell_type": "markdown",
   "metadata": {},
   "source": [
    "### Training"
   ]
  },
  {
   "cell_type": "code",
   "execution_count": 13,
   "metadata": {},
   "outputs": [],
   "source": [
    "from minisom import MiniSom\n",
    "x_som, y_som = 4,4\n",
    "som = MiniSom(x=x_som, y=y_som, input_len=X.shape[1], sigma=1.0, learning_rate=0.5)\n",
    "som.random_weights_init(X)\n",
    "som.train_random(X, num_iteration=100000, verbose=False)"
   ]
  },
  {
   "cell_type": "code",
   "execution_count": 14,
   "metadata": {},
   "outputs": [
    {
     "data": {
      "image/png": "[encoded data removed]",
      "text/plain": [
       "<Figure size 432x288 with 1 Axes>"
      ]
     },
     "metadata": {
      "needs_background": "light"
     },
     "output_type": "display_data"
    }
   ],
   "source": [
    "#ax.colorbar()\n",
    "fig, ax = plt.subplots()\n",
    "ax.set_title('SOM')\n",
    "plt.imshow(som.distance_map())\n",
    "for (i, j), z in np.ndenumerate(som.distance_map()):\n",
    "    if z > 0.10:\n",
    "        ax.text(j, i, '{:0.2f}'.format(som.distance_map()[i,j]), ha='center', va='center',color = 'white')"
   ]
  },
  {
   "cell_type": "markdown",
   "metadata": {},
   "source": [
    "### Predictions"
   ]
  },
  {
   "cell_type": "code",
   "execution_count": 15,
   "metadata": {},
   "outputs": [],
   "source": [
    "from sklearn.preprocessing import OneHotEncoder\n",
    "enc = OneHotEncoder()\n",
    "y_pred = [som.winner(x) for x in X]\n",
    "y_pred = np.array([i[0]*100 + i[1] for i in y_pred ])\n",
    "y_pred = enc.fit_transform(y_pred.reshape(-1, 1)).toarray()"
   ]
  },
  {
   "cell_type": "markdown",
   "metadata": {},
   "source": [
    "### Evaluation"
   ]
  },
  {
   "cell_type": "code",
   "execution_count": 16,
   "metadata": {},
   "outputs": [],
   "source": [
    "cm = confusion_matrix(y.argmax(axis=1), y_pred.argmax(axis=1))"
   ]
  },
  {
   "cell_type": "code",
   "execution_count": 17,
   "metadata": {},
   "outputs": [
    {
     "data": {
      "image/png": "[encoded data removed]",
      "text/plain": [
       "<Figure size 576x432 with 8 Axes>"
      ]
     },
     "metadata": {
      "needs_background": "light"
     },
     "output_type": "display_data"
    }
   ],
   "source": [
    "from mpl_toolkits.axes_grid1 import make_axes_locatable\n",
    "fig, axs = plt.subplots(figsize=(8,6), ncols = 2, nrows=2)\n",
    "plt.subplots_adjust(top = 0.99, bottom=0.01, hspace=0.2, wspace=0.4)\n",
    "vmax = np.max(cm)/(0.25*len(y_pred))\n",
    "for i, ax in enumerate(axs.flatten()):\n",
    "    data = cm[i,:].reshape((x_som,y_som))/(0.25*len(y_pred))\n",
    "    subplot = ax.matshow(data,vmin=0, vmax=vmax, cmap='BuGn')\n",
    "    divider = make_axes_locatable(ax)\n",
    "    cax = divider.append_axes(\"right\", size=\"5%\", pad=0.05)\n",
    "    ax.set_title(df.columns[-4+i])\n",
    "    for (i, j), z in np.ndenumerate(data):\n",
    "        if(z>0.01):\n",
    "            ax.text(j, i, '{:0.2f}'.format(z), ha='center', va='center',color = 'white')\n",
    "    fig.colorbar(subplot, cax=cax)"
   ]
  },
  {
   "cell_type": "code",
   "execution_count": 18,
   "metadata": {},
   "outputs": [
    {
     "data": {
      "image/png": "[encoded data removed]",
      "text/plain": [
       "<Figure size 432x288 with 1 Axes>"
      ]
     },
     "metadata": {
      "needs_background": "light"
     },
     "output_type": "display_data"
    }
   ],
   "source": [
    "clusstered = np.zeros((x_som,y_som,3))\n",
    "metrix_IoU = metrics_matrix(y, y_pred, IoU)\n",
    "clusstered[...,2]=metrix_IoU[:,0].reshape((x_som,y_som))\n",
    "clusstered[...,1]=metrix_IoU[:,1].reshape((x_som,y_som))\n",
    "clusstered[...,0]=metrix_IoU[:,2].reshape((x_som,y_som))\n",
    "fig, ax = plt.subplots()\n",
    "ax.set_title('Intersection over union')\n",
    "plt.imshow(clusstered)\n",
    "for (i, j, k), z in np.ndenumerate(clusstered):\n",
    "    if z > 0.10:\n",
    "        ax.text(j, i, '{:0.2f}'.format(max(clusstered[i,j,:])), ha='center', va='center',color = 'white')\n"
   ]
  },
  {
   "cell_type": "markdown",
   "metadata": {},
   "source": [
    "# Classification with Keras"
   ]
  },
  {
   "cell_type": "code",
   "execution_count": 19,
   "metadata": {},
   "outputs": [],
   "source": [
    "from keras.models import Sequential\n",
    "from keras.layers import Dense"
   ]
  },
  {
   "cell_type": "code",
   "execution_count": 37,
   "metadata": {},
   "outputs": [],
   "source": [
    "model = Sequential([\n",
    "    Dense(64, input_dim=X_train.shape[1], activation='relu'),\n",
    "    Dense(32, activation='relu'),\n",
    "    Dense(4, activation='softmax')\n",
    "])"
   ]
  },
  {
   "cell_type": "code",
   "execution_count": 38,
   "metadata": {},
   "outputs": [],
   "source": [
    "model.compile(loss='binary_crossentropy', optimizer='adam', metrics=['accuracy'])"
   ]
  },
  {
   "cell_type": "code",
   "execution_count": 39,
   "metadata": {},
   "outputs": [
    {
     "name": "stdout",
     "output_type": "stream",
     "text": [
      "Epoch 1/10\n",
      "301/301 [==============================] - 0s 1ms/step - loss: 0.2918 - accuracy: 0.7415\n",
      "Epoch 2/10\n",
      "301/301 [==============================] - 0s 1ms/step - loss: 0.2490 - accuracy: 0.7846\n",
      "Epoch 3/10\n",
      "301/301 [==============================] - 0s 1ms/step - loss: 0.2362 - accuracy: 0.7990\n",
      "Epoch 4/10\n",
      "301/301 [==============================] - 0s 1ms/step - loss: 0.2275 - accuracy: 0.8086\n",
      "Epoch 5/10\n",
      "301/301 [==============================] - 0s 1ms/step - loss: 0.2208 - accuracy: 0.8138\n",
      "Epoch 6/10\n",
      "301/301 [==============================] - 0s 1ms/step - loss: 0.2167 - accuracy: 0.8181\n",
      "Epoch 7/10\n",
      "301/301 [==============================] - 0s 1ms/step - loss: 0.2138 - accuracy: 0.8188\n",
      "Epoch 8/10\n",
      "301/301 [==============================] - 0s 1ms/step - loss: 0.2115 - accuracy: 0.8217\n",
      "Epoch 9/10\n",
      "301/301 [==============================] - 0s 1ms/step - loss: 0.2092 - accuracy: 0.8230\n",
      "Epoch 10/10\n",
      "301/301 [==============================] - 0s 1ms/step - loss: 0.2079 - accuracy: 0.8250\n"
     ]
    },
    {
     "data": {
      "text/plain": [
       "<tensorflow.python.keras.callbacks.History at 0x206b666af40>"
      ]
     },
     "execution_count": 39,
     "metadata": {},
     "output_type": "execute_result"
    }
   ],
   "source": [
    "model.fit(X_train, y_train, epochs=10, batch_size=100)"
   ]
  },
  {
   "cell_type": "code",
   "execution_count": 40,
   "metadata": {},
   "outputs": [
    {
     "name": "stdout",
     "output_type": "stream",
     "text": [
      "403/403 [==============================] - 0s 902us/step - loss: 0.2100 - accuracy: 0.8265\n"
     ]
    }
   ],
   "source": [
    "_, accuracy = model.evaluate(X_test, y_test)"
   ]
  },
  {
   "cell_type": "code",
   "execution_count": 41,
   "metadata": {},
   "outputs": [],
   "source": [
    "y_pred = model.predict(X_test)"
   ]
  },
  {
   "cell_type": "code",
   "execution_count": 42,
   "metadata": {},
   "outputs": [
    {
     "data": {
      "image/png": "[encoded data removed]",
      "text/plain": [
       "<Figure size 432x288 with 1 Axes>"
      ]
     },
     "metadata": {
      "needs_background": "light"
     },
     "output_type": "display_data"
    }
   ],
   "source": [
    "cm = confusion_matrix(y_test.argmax(axis=1), y_pred.argmax(axis=1))\n",
    "fig, ax = plt.subplots()\n",
    "cm = cm/(0.25*X_test.shape[0])\n",
    "ax.matshow(cm, cmap='seismic')\n",
    "for (i, j), z in np.ndenumerate(cm):\n",
    "    ax.text(j, i, '{:0.2f}'.format(z), ha='center', va='center',color = 'white')\n",
    "plt.show()"
   ]
  },
  {
   "cell_type": "code",
   "execution_count": 44,
   "metadata": {},
   "outputs": [
    {
     "name": "stdout",
     "output_type": "stream",
     "text": [
      "[1.0111068e-02 9.7073942e-01 7.2157796e-04 1.8428065e-02]\n"
     ]
    }
   ],
   "source": [
    "print(y_pred[100])"
   ]
  }
 ],
 "metadata": {
  "kernelspec": {
   "display_name": "Python 3",
   "language": "python",
   "name": "python3"
  },
  "language_info": {
   "codemirror_mode": {
    "name": "ipython",
    "version": 3
   },
   "file_extension": ".py",
   "mimetype": "text/x-python",
   "name": "python",
   "nbconvert_exporter": "python",
   "pygments_lexer": "ipython3",
   "version": "3.8.5"
  }
 },
 "nbformat": 4,
 "nbformat_minor": 4
}
